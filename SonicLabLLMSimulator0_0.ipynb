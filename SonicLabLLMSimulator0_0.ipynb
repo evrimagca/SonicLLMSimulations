{
  "cells": [
    {
      "metadata": {
        "ExecuteTime": {
          "end_time": "2024-12-15T22:02:30.201500Z",
          "start_time": "2024-12-15T22:02:29.039319Z"
        },
        "colab": {
          "base_uri": "https://localhost:8080/"
        },
        "id": "b542f8621ab30e54",
        "outputId": "19dd831d-e5da-466b-bf3f-f37817287963"
      },
      "cell_type": "code",
      "source": [
        "!pip install --upgrade openai\n"
      ],
      "id": "b542f8621ab30e54",
      "outputs": [
        {
          "output_type": "stream",
          "name": "stdout",
          "text": [
            "Requirement already satisfied: openai in /usr/local/lib/python3.11/dist-packages (1.59.6)\n",
            "Collecting openai\n",
            "  Downloading openai-1.60.0-py3-none-any.whl.metadata (27 kB)\n",
            "Requirement already satisfied: anyio<5,>=3.5.0 in /usr/local/lib/python3.11/dist-packages (from openai) (3.7.1)\n",
            "Requirement already satisfied: distro<2,>=1.7.0 in /usr/local/lib/python3.11/dist-packages (from openai) (1.9.0)\n",
            "Requirement already satisfied: httpx<1,>=0.23.0 in /usr/local/lib/python3.11/dist-packages (from openai) (0.28.1)\n",
            "Requirement already satisfied: jiter<1,>=0.4.0 in /usr/local/lib/python3.11/dist-packages (from openai) (0.8.2)\n",
            "Requirement already satisfied: pydantic<3,>=1.9.0 in /usr/local/lib/python3.11/dist-packages (from openai) (2.10.5)\n",
            "Requirement already satisfied: sniffio in /usr/local/lib/python3.11/dist-packages (from openai) (1.3.1)\n",
            "Requirement already satisfied: tqdm>4 in /usr/local/lib/python3.11/dist-packages (from openai) (4.67.1)\n",
            "Requirement already satisfied: typing-extensions<5,>=4.11 in /usr/local/lib/python3.11/dist-packages (from openai) (4.12.2)\n",
            "Requirement already satisfied: idna>=2.8 in /usr/local/lib/python3.11/dist-packages (from anyio<5,>=3.5.0->openai) (3.10)\n",
            "Requirement already satisfied: certifi in /usr/local/lib/python3.11/dist-packages (from httpx<1,>=0.23.0->openai) (2024.12.14)\n",
            "Requirement already satisfied: httpcore==1.* in /usr/local/lib/python3.11/dist-packages (from httpx<1,>=0.23.0->openai) (1.0.7)\n",
            "Requirement already satisfied: h11<0.15,>=0.13 in /usr/local/lib/python3.11/dist-packages (from httpcore==1.*->httpx<1,>=0.23.0->openai) (0.14.0)\n",
            "Requirement already satisfied: annotated-types>=0.6.0 in /usr/local/lib/python3.11/dist-packages (from pydantic<3,>=1.9.0->openai) (0.7.0)\n",
            "Requirement already satisfied: pydantic-core==2.27.2 in /usr/local/lib/python3.11/dist-packages (from pydantic<3,>=1.9.0->openai) (2.27.2)\n",
            "Downloading openai-1.60.0-py3-none-any.whl (456 kB)\n",
            "\u001b[2K   \u001b[90m━━━━━━━━━━━━━━━━━━━━━━━━━━━━━━━━━━━━━━━━\u001b[0m \u001b[32m456.1/456.1 kB\u001b[0m \u001b[31m8.6 MB/s\u001b[0m eta \u001b[36m0:00:00\u001b[0m\n",
            "\u001b[?25hInstalling collected packages: openai\n",
            "  Attempting uninstall: openai\n",
            "    Found existing installation: openai 1.59.6\n",
            "    Uninstalling openai-1.59.6:\n",
            "      Successfully uninstalled openai-1.59.6\n",
            "Successfully installed openai-1.60.0\n"
          ]
        }
      ],
      "execution_count": null
    },
    {
      "cell_type": "code",
      "id": "initial_id",
      "metadata": {
        "collapsed": true,
        "ExecuteTime": {
          "end_time": "2024-12-15T22:58:48.650787Z",
          "start_time": "2024-12-15T22:58:48.609671Z"
        },
        "id": "initial_id"
      },
      "source": [
        "from config import OPENAI_API_KEY\n",
        "import openai\n",
        "from openai import OpenAI\n",
        "\n",
        "\n",
        "\n",
        "\n",
        "# ----------------------------\n",
        "# CONFIGURATION AND CONSTANTS\n",
        "# ----------------------------\n",
        "MODEL_NAME = \"o3-mini\"\n",
        "MAX_TURNS = 5\n",
        "\n",
        "CLIMATE_SUMMARIES = {\n",
        "    \"Argyre\": \"Experiences extreme weather events that would delay climate modeling. \"\n",
        "              \"Sensing equipment would need to be dismantled frequently, making the project take 2-3 times longer.\",\n",
        "    \"Casius\": \"May hold key insights into irreversible climate change. Provides data that could help understand \"\n",
        "              \"climate change dynamics on Earth.\",\n",
        "    \"Diacria\": \"Has very consistent, non-variable climate conditions. Would take 10+ years to build an accurate \"\n",
        "               \"climate model due to lack of atmospheric fluctuations.\",\n",
        "    \"Eridania\": \"Climate has been extensively mapped by Curiosity rover. Contains fascinating cloud patterns that \"\n",
        "                \"could unlock secrets of Martian climate.\"\n",
        "}\n",
        "\n",
        "LIFE_SCIENCE_SUMMARIES = {\n",
        "    \"Argyre\": \"No evidence of surface lakes or streams. Unlikely to find fossils in dusty sands.\",\n",
        "    \"Casius\": \"High methane concentrations suggest potential for living organisms. Evidence of a subglacial lake \"\n",
        "              \"makes it a top priority for finding life.\",\n",
        "    \"Diacria\": \"Trace methane amounts make it disappointing for life discovery. However, potential hydrothermal \"\n",
        "               \"pools and subsurface water reservoir exist.\",\n",
        "    \"Eridania\": \"Found complex organic compounds in mudstone rocks similar to those associated with microbial life \"\n",
        "                \"on Earth. Very cold, reducing life probability.\"\n",
        "}\n",
        "\n",
        "GEOLOGY_SUMMARIES = {\n",
        "    \"Argyre\": \"Boring geological landscape. However, nearby is an immense canyon system extending a quarter of the planet's circumference.\",\n",
        "    \"Casius\": \"Porous surface ideal for core exploration. Experiences mild earthquakes. No nearby volcanoes of interest.\",\n",
        "    \"Diacria\": \"Contains three enormous volcanoes. Provides unique access to tectonic and core data. Many unmapped surface areas.\",\n",
        "    \"Eridania\": \"Difficult to collect rock samples due to solid stone upper crust. Rich in impact craters, offering insights into Mars' geological history.\"\n",
        "}\n",
        "\n",
        "\n",
        "def climate_scientist_goals():\n",
        "    return \"\"\"Your role is the Climate Scientist. Your goals:\n",
        "1. Determine if life exists or ever existed on Mars.\n",
        "2. Understand the geology of Mars.\n",
        "3. Understand the atmosphere and climate dynamics on Mars.\n",
        "Remember: Scientific Discovery, Life, Geology, Climate\n",
        "\"\"\"\n",
        "\n",
        "\n",
        "def life_scientist_goals():\n",
        "    return \"\"\"Your role is the Life Scientist. Your goals:\n",
        "1. Determine if life exists or ever existed on Mars.\n",
        "2. Understand the geology of Mars.\n",
        "3. Understand the atmosphere and climate dynamics on Mars.\n",
        "Remember: Scientific Discovery, Life, Geology, Climate\n",
        "\"\"\"\n",
        "\n",
        "\n",
        "def geology_scientist_goals():\n",
        "    return \"\"\"Your role is the Geology Scientist. Your goals:\n",
        "1. Determine if life exists or ever existed on Mars.\n",
        "2. Understand the geology of Mars.\n",
        "3. Understand the atmosphere and climate dynamics on Mars.\n",
        "Remember: Scientific Discovery, Life, Geology, Climate\n",
        "\"\"\"\n",
        "\n",
        "\n",
        "# Agent configuration\n",
        "AGENTS = {\n",
        "    \"climate\": {\n",
        "        \"role\": \"Climate Scientist\",\n",
        "        \"goals\": climate_scientist_goals(),\n",
        "        \"summaries\": CLIMATE_SUMMARIES,\n",
        "        \"decider_instructions\": \"You are the climate scientist. Decide if you have more to contribute or if you should give a final answer. If the conversation seems near conclusion, finalize your answer.\",\n",
        "        \"conversation_instructions\": \"You are the climate scientist. Discuss possible landing sites focusing on climate feasibility and advantages or disadvantages of each location.\"\n",
        "    },\n",
        "    \"life\": {\n",
        "        \"role\": \"Life Scientist\",\n",
        "        \"goals\": life_scientist_goals(),\n",
        "        \"summaries\": LIFE_SCIENCE_SUMMARIES,\n",
        "        \"decider_instructions\": \"You are the life scientist. Decide if you have more to contribute or if you should finalize your recommendation. If you believe the conversation is near a decision point, finalize.\",\n",
        "        \"conversation_instructions\": \"You are the life scientist. Discuss what sites have the highest potential for discovering life. Focus on methane, organic compounds, and water.\"\n",
        "    },\n",
        "    \"geology\": {\n",
        "        \"role\": \"Geology Scientist\",\n",
        "        \"goals\": geology_scientist_goals(),\n",
        "        \"summaries\": GEOLOGY_SUMMARIES,\n",
        "        \"decider_instructions\": \"You are the geology scientist. Decide if you have more to contribute or if you should finalize your recommendation. If the conversation seems conclusive, finalize.\",\n",
        "        \"conversation_instructions\": \"You are the geology scientist. Discuss which site offers the best geological research opportunities. Highlight volcanoes, tectonics, and crater analysis.\"\n",
        "    }\n",
        "}\n",
        "\n",
        "\n",
        "# Initialize the OpenAI client\n",
        "client = OpenAI(api_key=OPENAI_API_KEY)\n",
        "\n",
        "\n",
        "def call_openai_model(messages, model=MODEL_NAME, temperature=0.7):\n",
        "    \"\"\"\n",
        "    Calls the OpenAI chat completion model with the given messages.\n",
        "    \"\"\"\n",
        "    response = client.chat.completions.create(\n",
        "        model=model,\n",
        "        messages=messages,\n",
        "        temperature=temperature\n",
        "    )\n",
        "    return response.choices[0].message.content\n",
        "\n",
        "\n",
        "def transform_history_for_agent(agent_key, conversation_history):\n",
        "    \"\"\"\n",
        "    Transform the conversation history from the perspective of the current agent:\n",
        "    - system messages remain \"system\"\n",
        "    - messages from this agent become \"assistant\"\n",
        "    - messages from other agents become \"user\"\n",
        "    \"\"\"\n",
        "    transformed = []\n",
        "    for msg in conversation_history:\n",
        "        if msg[\"role\"] == \"system\":\n",
        "            transformed.append({\"role\": \"system\", \"content\": msg[\"content\"]})\n",
        "        else:\n",
        "            if msg.get(\"name\") == agent_key:\n",
        "                # Current agent's own previous messages are assistant messages\n",
        "                transformed.append({\"role\": \"assistant\", \"content\": msg[\"content\"]})\n",
        "            else:\n",
        "                # All other agents' messages become user messages\n",
        "                transformed.append({\"role\": \"user\", \"content\": msg[\"content\"]})\n",
        "    return transformed\n",
        "\n",
        "\n",
        "def agent_decider(agent_key, conversation_history):\n",
        "    \"\"\"\n",
        "    The decider model: decides if the agent should continue contributing or finalize.\n",
        "    Returns either 'CONTRIBUTE' or 'FINALIZE'.\n",
        "    \"\"\"\n",
        "    agent_data = AGENTS[agent_key]\n",
        "    recent_history = conversation_history[-10:]\n",
        "\n",
        "    # Construct prompt\n",
        "    prompt = [\n",
        "        {\"role\": \"system\", \"content\": agent_data[\"goals\"]},\n",
        "        {\"role\": \"system\", \"content\": agent_data[\"decider_instructions\"]},\n",
        "        {\"role\": \"user\", \"content\": \"Given the conversation so far, should you contribute more or finalize your recommendation? Respond ONLY with 'CONTRIBUTE' or 'FINALIZE'.\"}\n",
        "    ]\n",
        "\n",
        "    transformed_history = transform_history_for_agent(agent_key, recent_history)\n",
        "    prompt.extend(transformed_history)\n",
        "\n",
        "    decision = call_openai_model(prompt, model=MODEL_NAME, temperature=0.0)\n",
        "    return \"FINALIZE\" if \"FINALIZE\" in decision.upper() else \"CONTRIBUTE\"\n",
        "\n",
        "\n",
        "def agent_conversation(agent_key, conversation_history, finalize=False):\n",
        "    \"\"\"\n",
        "    The conversation model for the agent: either continue discussion or provide a final answer.\n",
        "    \"\"\"\n",
        "    agent_data = AGENTS[agent_key]\n",
        "\n",
        "    # User message depends on whether we are finalizing or not\n",
        "    user_message = \"Please provide your final recommended landing site and a brief justification.\" if finalize else \\\n",
        "        \"Please continue the discussion considering the other scientists' points.\"\n",
        "\n",
        "    # Select summaries based on agent role\n",
        "    if agent_key == \"climate\":\n",
        "        summaries_content = f\"Climate:\\n{CLIMATE_SUMMARIES}\"\n",
        "    elif agent_key == \"life\":\n",
        "        summaries_content = f\"Life:\\n{LIFE_SCIENCE_SUMMARIES}\"\n",
        "    elif agent_key == \"geology\":\n",
        "        summaries_content = f\"Geology:\\n{GEOLOGY_SUMMARIES}\"\n",
        "    else:\n",
        "        summaries_content = \"No summaries available.\"\n",
        "\n",
        "    transformed_history = transform_history_for_agent(agent_key, conversation_history)\n",
        "\n",
        "    prompt = [\n",
        "        {\"role\": \"system\", \"content\": agent_data[\"goals\"]},\n",
        "        {\"role\": \"system\", \"content\": agent_data[\"conversation_instructions\"]},\n",
        "        {\"role\": \"system\", \"content\": f\"Here are location-specific summaries:\\n{summaries_content}\"},\n",
        "        {\"role\": \"system\", \"content\": \"You are part of a team of three scientists (climate, life, geology). \"\n",
        "                                      \"The conversation is about choosing the best landing site on Mars for your mission. \"\n",
        "                                      \"Keep your replies short. Talk only from your perspective.\"}\n",
        "    ]\n",
        "    prompt.extend(transformed_history)\n",
        "    prompt.append({\"role\": \"user\", \"content\": user_message})\n",
        "\n",
        "    return call_openai_model(prompt, model=MODEL_NAME, temperature=0.7)\n",
        "\n",
        "\n",
        "def run_conversation(MAX_TURNS = 10):\n",
        "    \"\"\"\n",
        "    Run a round-robin conversation among the three agents until all finalize or max turns reached.\n",
        "    \"\"\"\n",
        "    conversation_history = []\n",
        "    finalized = {\"climate\": False, \"life\": False, \"geology\": False}\n",
        "\n",
        "    # Initial system prompt\n",
        "    conversation_history.append({\n",
        "        \"role\": \"system\",\n",
        "        \"content\": \"You are three scientists discussing where to land on Mars. \"\n",
        "                    \"Consider climate, life potential, and geology to select the best site. Start the conversation now.\"\n",
        "    })\n",
        "\n",
        "    agent_order = [\"climate\", \"life\", \"geology\"]\n",
        "    turn = 0\n",
        "\n",
        "    while turn < MAX_TURNS:\n",
        "        # If all have finalized, stop\n",
        "        if all(finalized.values()):\n",
        "            break\n",
        "\n",
        "        for agent_key in agent_order:\n",
        "            # Skip agents that have already finalized\n",
        "            if finalized[agent_key]:\n",
        "                continue\n",
        "\n",
        "            decision = agent_decider(agent_key, conversation_history)\n",
        "            if decision == \"FINALIZE\":\n",
        "                response = agent_conversation(agent_key, conversation_history, finalize=True)\n",
        "                finalized[agent_key] = True\n",
        "            else:\n",
        "                response = agent_conversation(agent_key, conversation_history, finalize=False)\n",
        "\n",
        "            conversation_history.append({\"role\": \"assistant\", \"name\": agent_key, \"content\": response})\n",
        "\n",
        "            if decision == \"FINALIZE\":\n",
        "                finalized[agent_key] = True\n",
        "\n",
        "        turn += 1\n",
        "\n",
        "    return conversation_history"
      ],
      "outputs": [],
      "execution_count": null
    },
    {
      "metadata": {
        "ExecuteTime": {
          "end_time": "2024-12-15T22:59:48.707589Z",
          "start_time": "2024-12-15T22:59:03.238243Z"
        },
        "id": "bac42ca1d80d44bf",
        "colab": {
          "base_uri": "https://localhost:8080/",
          "height": 333
        },
        "outputId": "7b33c083-466c-4498-e86e-c0f91ca9e19c"
      },
      "cell_type": "code",
      "source": [
        "final_conversation = run_conversation(MAX_TURNS = 10)"
      ],
      "id": "bac42ca1d80d44bf",
      "outputs": [
        {
          "output_type": "error",
          "ename": "BadRequestError",
          "evalue": "Error code: 400 - {'error': {'message': \"Unsupported parameter: 'temperature' is not supported with this model.\", 'type': 'invalid_request_error', 'param': 'temperature', 'code': 'unsupported_parameter'}}",
          "traceback": [
            "\u001b[0;31m---------------------------------------------------------------------------\u001b[0m",
            "\u001b[0;31mBadRequestError\u001b[0m                           Traceback (most recent call last)",
            "\u001b[0;32m<ipython-input-4-3ebfb85cfeee>\u001b[0m in \u001b[0;36m<cell line: 0>\u001b[0;34m()\u001b[0m\n\u001b[0;32m----> 1\u001b[0;31m \u001b[0mfinal_conversation\u001b[0m \u001b[0;34m=\u001b[0m \u001b[0mrun_conversation\u001b[0m\u001b[0;34m(\u001b[0m\u001b[0mMAX_TURNS\u001b[0m \u001b[0;34m=\u001b[0m \u001b[0;36m10\u001b[0m\u001b[0;34m)\u001b[0m\u001b[0;34m\u001b[0m\u001b[0;34m\u001b[0m\u001b[0m\n\u001b[0m",
            "\u001b[0;32m<ipython-input-3-d9847278aba5>\u001b[0m in \u001b[0;36mrun_conversation\u001b[0;34m(MAX_TURNS)\u001b[0m\n\u001b[1;32m    216\u001b[0m                 \u001b[0;32mcontinue\u001b[0m\u001b[0;34m\u001b[0m\u001b[0;34m\u001b[0m\u001b[0m\n\u001b[1;32m    217\u001b[0m \u001b[0;34m\u001b[0m\u001b[0m\n\u001b[0;32m--> 218\u001b[0;31m             \u001b[0mdecision\u001b[0m \u001b[0;34m=\u001b[0m \u001b[0magent_decider\u001b[0m\u001b[0;34m(\u001b[0m\u001b[0magent_key\u001b[0m\u001b[0;34m,\u001b[0m \u001b[0mconversation_history\u001b[0m\u001b[0;34m)\u001b[0m\u001b[0;34m\u001b[0m\u001b[0;34m\u001b[0m\u001b[0m\n\u001b[0m\u001b[1;32m    219\u001b[0m             \u001b[0;32mif\u001b[0m \u001b[0mdecision\u001b[0m \u001b[0;34m==\u001b[0m \u001b[0;34m\"FINALIZE\"\u001b[0m\u001b[0;34m:\u001b[0m\u001b[0;34m\u001b[0m\u001b[0;34m\u001b[0m\u001b[0m\n\u001b[1;32m    220\u001b[0m                 \u001b[0mresponse\u001b[0m \u001b[0;34m=\u001b[0m \u001b[0magent_conversation\u001b[0m\u001b[0;34m(\u001b[0m\u001b[0magent_key\u001b[0m\u001b[0;34m,\u001b[0m \u001b[0mconversation_history\u001b[0m\u001b[0;34m,\u001b[0m \u001b[0mfinalize\u001b[0m\u001b[0;34m=\u001b[0m\u001b[0;32mTrue\u001b[0m\u001b[0;34m)\u001b[0m\u001b[0;34m\u001b[0m\u001b[0;34m\u001b[0m\u001b[0m\n",
            "\u001b[0;32m<ipython-input-3-d9847278aba5>\u001b[0m in \u001b[0;36magent_decider\u001b[0;34m(agent_key, conversation_history)\u001b[0m\n\u001b[1;32m    149\u001b[0m     \u001b[0mprompt\u001b[0m\u001b[0;34m.\u001b[0m\u001b[0mextend\u001b[0m\u001b[0;34m(\u001b[0m\u001b[0mtransformed_history\u001b[0m\u001b[0;34m)\u001b[0m\u001b[0;34m\u001b[0m\u001b[0;34m\u001b[0m\u001b[0m\n\u001b[1;32m    150\u001b[0m \u001b[0;34m\u001b[0m\u001b[0m\n\u001b[0;32m--> 151\u001b[0;31m     \u001b[0mdecision\u001b[0m \u001b[0;34m=\u001b[0m \u001b[0mcall_openai_model\u001b[0m\u001b[0;34m(\u001b[0m\u001b[0mprompt\u001b[0m\u001b[0;34m,\u001b[0m \u001b[0mmodel\u001b[0m\u001b[0;34m=\u001b[0m\u001b[0mMODEL_NAME\u001b[0m\u001b[0;34m,\u001b[0m \u001b[0mtemperature\u001b[0m\u001b[0;34m=\u001b[0m\u001b[0;36m0.0\u001b[0m\u001b[0;34m)\u001b[0m\u001b[0;34m\u001b[0m\u001b[0;34m\u001b[0m\u001b[0m\n\u001b[0m\u001b[1;32m    152\u001b[0m     \u001b[0;32mreturn\u001b[0m \u001b[0;34m\"FINALIZE\"\u001b[0m \u001b[0;32mif\u001b[0m \u001b[0;34m\"FINALIZE\"\u001b[0m \u001b[0;32min\u001b[0m \u001b[0mdecision\u001b[0m\u001b[0;34m.\u001b[0m\u001b[0mupper\u001b[0m\u001b[0;34m(\u001b[0m\u001b[0;34m)\u001b[0m \u001b[0;32melse\u001b[0m \u001b[0;34m\"CONTRIBUTE\"\u001b[0m\u001b[0;34m\u001b[0m\u001b[0;34m\u001b[0m\u001b[0m\n\u001b[1;32m    153\u001b[0m \u001b[0;34m\u001b[0m\u001b[0m\n",
            "\u001b[0;32m<ipython-input-3-d9847278aba5>\u001b[0m in \u001b[0;36mcall_openai_model\u001b[0;34m(messages, model, temperature)\u001b[0m\n\u001b[1;32m    102\u001b[0m     \u001b[0mCalls\u001b[0m \u001b[0mthe\u001b[0m \u001b[0mOpenAI\u001b[0m \u001b[0mchat\u001b[0m \u001b[0mcompletion\u001b[0m \u001b[0mmodel\u001b[0m \u001b[0;32mwith\u001b[0m \u001b[0mthe\u001b[0m \u001b[0mgiven\u001b[0m \u001b[0mmessages\u001b[0m\u001b[0;34m.\u001b[0m\u001b[0;34m\u001b[0m\u001b[0;34m\u001b[0m\u001b[0m\n\u001b[1;32m    103\u001b[0m     \"\"\"\n\u001b[0;32m--> 104\u001b[0;31m     response = client.chat.completions.create(\n\u001b[0m\u001b[1;32m    105\u001b[0m         \u001b[0mmodel\u001b[0m\u001b[0;34m=\u001b[0m\u001b[0mmodel\u001b[0m\u001b[0;34m,\u001b[0m\u001b[0;34m\u001b[0m\u001b[0;34m\u001b[0m\u001b[0m\n\u001b[1;32m    106\u001b[0m         \u001b[0mmessages\u001b[0m\u001b[0;34m=\u001b[0m\u001b[0mmessages\u001b[0m\u001b[0;34m,\u001b[0m\u001b[0;34m\u001b[0m\u001b[0;34m\u001b[0m\u001b[0m\n",
            "\u001b[0;32m/usr/local/lib/python3.11/dist-packages/openai/_utils/_utils.py\u001b[0m in \u001b[0;36mwrapper\u001b[0;34m(*args, **kwargs)\u001b[0m\n\u001b[1;32m    277\u001b[0m                         \u001b[0mmsg\u001b[0m \u001b[0;34m=\u001b[0m \u001b[0;34mf\"Missing required argument: {quote(missing[0])}\"\u001b[0m\u001b[0;34m\u001b[0m\u001b[0;34m\u001b[0m\u001b[0m\n\u001b[1;32m    278\u001b[0m                 \u001b[0;32mraise\u001b[0m \u001b[0mTypeError\u001b[0m\u001b[0;34m(\u001b[0m\u001b[0mmsg\u001b[0m\u001b[0;34m)\u001b[0m\u001b[0;34m\u001b[0m\u001b[0;34m\u001b[0m\u001b[0m\n\u001b[0;32m--> 279\u001b[0;31m             \u001b[0;32mreturn\u001b[0m \u001b[0mfunc\u001b[0m\u001b[0;34m(\u001b[0m\u001b[0;34m*\u001b[0m\u001b[0margs\u001b[0m\u001b[0;34m,\u001b[0m \u001b[0;34m**\u001b[0m\u001b[0mkwargs\u001b[0m\u001b[0;34m)\u001b[0m\u001b[0;34m\u001b[0m\u001b[0;34m\u001b[0m\u001b[0m\n\u001b[0m\u001b[1;32m    280\u001b[0m \u001b[0;34m\u001b[0m\u001b[0m\n\u001b[1;32m    281\u001b[0m         \u001b[0;32mreturn\u001b[0m \u001b[0mwrapper\u001b[0m  \u001b[0;31m# type: ignore\u001b[0m\u001b[0;34m\u001b[0m\u001b[0;34m\u001b[0m\u001b[0m\n",
            "\u001b[0;32m/usr/local/lib/python3.11/dist-packages/openai/resources/chat/completions.py\u001b[0m in \u001b[0;36mcreate\u001b[0;34m(self, messages, model, audio, frequency_penalty, function_call, functions, logit_bias, logprobs, max_completion_tokens, max_tokens, metadata, modalities, n, parallel_tool_calls, prediction, presence_penalty, reasoning_effort, response_format, seed, service_tier, stop, store, stream, stream_options, temperature, tool_choice, tools, top_logprobs, top_p, user, extra_headers, extra_query, extra_body, timeout)\u001b[0m\n\u001b[1;32m    861\u001b[0m     ) -> ChatCompletion | Stream[ChatCompletionChunk]:\n\u001b[1;32m    862\u001b[0m         \u001b[0mvalidate_response_format\u001b[0m\u001b[0;34m(\u001b[0m\u001b[0mresponse_format\u001b[0m\u001b[0;34m)\u001b[0m\u001b[0;34m\u001b[0m\u001b[0;34m\u001b[0m\u001b[0m\n\u001b[0;32m--> 863\u001b[0;31m         return self._post(\n\u001b[0m\u001b[1;32m    864\u001b[0m             \u001b[0;34m\"/chat/completions\"\u001b[0m\u001b[0;34m,\u001b[0m\u001b[0;34m\u001b[0m\u001b[0;34m\u001b[0m\u001b[0m\n\u001b[1;32m    865\u001b[0m             body=maybe_transform(\n",
            "\u001b[0;32m/usr/local/lib/python3.11/dist-packages/openai/_base_client.py\u001b[0m in \u001b[0;36mpost\u001b[0;34m(self, path, cast_to, body, options, files, stream, stream_cls)\u001b[0m\n\u001b[1;32m   1281\u001b[0m             \u001b[0mmethod\u001b[0m\u001b[0;34m=\u001b[0m\u001b[0;34m\"post\"\u001b[0m\u001b[0;34m,\u001b[0m \u001b[0murl\u001b[0m\u001b[0;34m=\u001b[0m\u001b[0mpath\u001b[0m\u001b[0;34m,\u001b[0m \u001b[0mjson_data\u001b[0m\u001b[0;34m=\u001b[0m\u001b[0mbody\u001b[0m\u001b[0;34m,\u001b[0m \u001b[0mfiles\u001b[0m\u001b[0;34m=\u001b[0m\u001b[0mto_httpx_files\u001b[0m\u001b[0;34m(\u001b[0m\u001b[0mfiles\u001b[0m\u001b[0;34m)\u001b[0m\u001b[0;34m,\u001b[0m \u001b[0;34m**\u001b[0m\u001b[0moptions\u001b[0m\u001b[0;34m\u001b[0m\u001b[0;34m\u001b[0m\u001b[0m\n\u001b[1;32m   1282\u001b[0m         )\n\u001b[0;32m-> 1283\u001b[0;31m         \u001b[0;32mreturn\u001b[0m \u001b[0mcast\u001b[0m\u001b[0;34m(\u001b[0m\u001b[0mResponseT\u001b[0m\u001b[0;34m,\u001b[0m \u001b[0mself\u001b[0m\u001b[0;34m.\u001b[0m\u001b[0mrequest\u001b[0m\u001b[0;34m(\u001b[0m\u001b[0mcast_to\u001b[0m\u001b[0;34m,\u001b[0m \u001b[0mopts\u001b[0m\u001b[0;34m,\u001b[0m \u001b[0mstream\u001b[0m\u001b[0;34m=\u001b[0m\u001b[0mstream\u001b[0m\u001b[0;34m,\u001b[0m \u001b[0mstream_cls\u001b[0m\u001b[0;34m=\u001b[0m\u001b[0mstream_cls\u001b[0m\u001b[0;34m)\u001b[0m\u001b[0;34m)\u001b[0m\u001b[0;34m\u001b[0m\u001b[0;34m\u001b[0m\u001b[0m\n\u001b[0m\u001b[1;32m   1284\u001b[0m \u001b[0;34m\u001b[0m\u001b[0m\n\u001b[1;32m   1285\u001b[0m     def patch(\n",
            "\u001b[0;32m/usr/local/lib/python3.11/dist-packages/openai/_base_client.py\u001b[0m in \u001b[0;36mrequest\u001b[0;34m(self, cast_to, options, remaining_retries, stream, stream_cls)\u001b[0m\n\u001b[1;32m    958\u001b[0m             \u001b[0mretries_taken\u001b[0m \u001b[0;34m=\u001b[0m \u001b[0;36m0\u001b[0m\u001b[0;34m\u001b[0m\u001b[0;34m\u001b[0m\u001b[0m\n\u001b[1;32m    959\u001b[0m \u001b[0;34m\u001b[0m\u001b[0m\n\u001b[0;32m--> 960\u001b[0;31m         return self._request(\n\u001b[0m\u001b[1;32m    961\u001b[0m             \u001b[0mcast_to\u001b[0m\u001b[0;34m=\u001b[0m\u001b[0mcast_to\u001b[0m\u001b[0;34m,\u001b[0m\u001b[0;34m\u001b[0m\u001b[0;34m\u001b[0m\u001b[0m\n\u001b[1;32m    962\u001b[0m             \u001b[0moptions\u001b[0m\u001b[0;34m=\u001b[0m\u001b[0moptions\u001b[0m\u001b[0;34m,\u001b[0m\u001b[0;34m\u001b[0m\u001b[0;34m\u001b[0m\u001b[0m\n",
            "\u001b[0;32m/usr/local/lib/python3.11/dist-packages/openai/_base_client.py\u001b[0m in \u001b[0;36m_request\u001b[0;34m(self, cast_to, options, retries_taken, stream, stream_cls)\u001b[0m\n\u001b[1;32m   1062\u001b[0m \u001b[0;34m\u001b[0m\u001b[0m\n\u001b[1;32m   1063\u001b[0m             \u001b[0mlog\u001b[0m\u001b[0;34m.\u001b[0m\u001b[0mdebug\u001b[0m\u001b[0;34m(\u001b[0m\u001b[0;34m\"Re-raising status error\"\u001b[0m\u001b[0;34m)\u001b[0m\u001b[0;34m\u001b[0m\u001b[0;34m\u001b[0m\u001b[0m\n\u001b[0;32m-> 1064\u001b[0;31m             \u001b[0;32mraise\u001b[0m \u001b[0mself\u001b[0m\u001b[0;34m.\u001b[0m\u001b[0m_make_status_error_from_response\u001b[0m\u001b[0;34m(\u001b[0m\u001b[0merr\u001b[0m\u001b[0;34m.\u001b[0m\u001b[0mresponse\u001b[0m\u001b[0;34m)\u001b[0m \u001b[0;32mfrom\u001b[0m \u001b[0;32mNone\u001b[0m\u001b[0;34m\u001b[0m\u001b[0;34m\u001b[0m\u001b[0m\n\u001b[0m\u001b[1;32m   1065\u001b[0m \u001b[0;34m\u001b[0m\u001b[0m\n\u001b[1;32m   1066\u001b[0m         return self._process_response(\n",
            "\u001b[0;31mBadRequestError\u001b[0m: Error code: 400 - {'error': {'message': \"Unsupported parameter: 'temperature' is not supported with this model.\", 'type': 'invalid_request_error', 'param': 'temperature', 'code': 'unsupported_parameter'}}"
          ]
        }
      ],
      "execution_count": null
    },
    {
      "metadata": {
        "ExecuteTime": {
          "end_time": "2024-12-15T23:04:54.367559Z",
          "start_time": "2024-12-15T23:04:54.363691Z"
        },
        "id": "84da9af6ece6ae3e"
      },
      "cell_type": "code",
      "source": [
        "def extract_final_choice(conversation):\n",
        "    \"\"\"\n",
        "    After the conversation ends, call the EXTRACTOR agent to determine the team's final chosen location.\n",
        "    The EXTRACTOR should respond with one word: the chosen location or 'ERROR' if unclear.\n",
        "    \"\"\"\n",
        "\n",
        "    # We'll just feed the entire conversation to the model and ask for a single-word summary.\n",
        "    # The conversation includes system, assistant messages from each agent.\n",
        "    # We trust that by the end of the conversation, a final decision was made.\n",
        "\n",
        "    # Transform the entire final conversation so the EXTRACTOR sees them as a single user-provided text.\n",
        "    # The EXTRACTOR is a separate \"system\" persona with a simple rule.\n",
        "    conversation_content = \"\"\n",
        "    for msg in conversation:\n",
        "        # We'll just include all messages. The EXTRACTOR should figure out the final location.\n",
        "        # It's safe to give them all in user role so it tries to extract from user perspective.\n",
        "        # Or we can just present them as assistant content one after another.\n",
        "        conversation_content += f\"{msg.get('name', msg['role']).upper()}: {msg['content']}\\n\\n\"\n",
        "\n",
        "    extractor_prompt = [\n",
        "        {\"role\": \"system\", \"content\": \"You are the EXTRACTOR agent. You will read the entire conversation and determine the final chosen landing location on Mars.\"},\n",
        "        {\"role\": \"system\", \"content\": \"Output only one word: the chosen site name (e.g., 'Casius', 'Argyre', 'Diacria', 'Eridania') if a single final choice is clear. Otherwise, output 'ERROR'.\"},\n",
        "        {\"role\": \"user\", \"content\": \"Here is the entire conversation:\\n\" + conversation_content}\n",
        "    ]\n",
        "\n",
        "    response = call_openai_model(extractor_prompt, model=MODEL_NAME, temperature=0.0)\n",
        "    # Just in case, strip whitespace\n",
        "    final_choice = response.strip()\n",
        "    # Ensure it's one word or 'ERROR'\n",
        "    # If not sure, return 'ERROR'\n",
        "    if final_choice not in [\"Argyre\", \"Casius\", \"Diacria\", \"Eridania\", \"ERROR\"]:\n",
        "        final_choice = \"ERROR\"\n",
        "    return final_choice"
      ],
      "id": "84da9af6ece6ae3e",
      "outputs": [],
      "execution_count": null
    },
    {
      "metadata": {
        "ExecuteTime": {
          "end_time": "2024-12-15T23:06:38.306030Z",
          "start_time": "2024-12-15T23:06:38.302598Z"
        },
        "id": "f884163b90b294a",
        "outputId": "159054ae-fb96-40dd-c25e-faa726e78b1d",
        "colab": {
          "base_uri": "https://localhost:8080/"
        }
      },
      "cell_type": "code",
      "source": [
        "final_conversation"
      ],
      "id": "f884163b90b294a",
      "outputs": [
        {
          "output_type": "execute_result",
          "data": {
            "text/plain": [
              "[{'role': 'system',\n",
              "  'content': 'You are three scientists discussing where to land on Mars. Consider climate, life potential, and geology to select the best site. Start the conversation now.'},\n",
              " {'role': 'assistant',\n",
              "  'name': 'climate',\n",
              "  'content': \"Given the climate perspectives at each site:\\n\\n1. **Argyre**: From a climate standpoint, Argyre's extreme weather would significantly delay our ability to model the climate accurately, as the sensing equipment would frequently need to be dismantled. This could hinder our understanding of the climate dynamics on Mars. \\n\\n2. **Casius**: Offers an opportunity to study irreversible climate change, which could be crucial for understanding both Martian and potentially Earth climates. The data here could yield valuable insights into climate change dynamics.\\n\\n3. **Diacria**: Has a very stable climate, but the lack of variability means it would take over a decade to build a comprehensive climate model. This might not be ideal if we're looking for dynamic climate interactions.\\n\\n4. **Eridania**: Already mapped extensively, but its cloud patterns could reveal secrets of Martian climate dynamics.\\n\\nFrom a climate perspective, Casius could be the most beneficial if we're interested in climate change dynamics. However, I'd like to hear how these sites fare for life and geology.\"},\n",
              " {'role': 'assistant',\n",
              "  'name': 'life',\n",
              "  'content': \"From a life scientist's perspective, Casius is particularly intriguing due to the high methane concentrations detected there. Methane can be a potential biosignature since it may indicate biological activity, especially if it is released in bursts. Additionally, the evidence of a subglacial lake at Casius indicates the presence of liquid water, which is crucial for life. These factors make Casius a top priority for discovering life or evidence of past life on Mars. What about the geological aspects of these sites?\"},\n",
              " {'role': 'assistant',\n",
              "  'name': 'geology',\n",
              "  'content': \"From a geological standpoint, let's break down the options:\\n\\n1. **Argyre**: Although it has a boring geological landscape, the nearby immense canyon system is intriguing and could hold clues to Mars' geological past. However, it does not offer significant opportunities for volcanic or tectonic studies.\\n\\n2. **Casius**: The porous surface is ideal for core exploration, which is critical for understanding the subsurface geology. The mild earthquakes suggest active tectonics, providing insight into the planet's geological dynamics. However, the lack of nearby volcanoes makes it less appealing for volcanic studies.\\n\\n3. **Diacria**: The presence of three enormous volcanoes offers unparalleled opportunities to study volcanic activity and tectonics on Mars. This could provide significant insights into the planet's geological history and internal processes. The many unmapped areas present an opportunity for new discoveries.\\n\\n4. **Eridania**: While the rich impact craters offer a window into Mars' geological history, the solid stone upper crust makes it challenging to collect rock samples, which could limit our understanding of the underlying geology.\\n\\nConsidering the climate and life perspectives, Casius is promising for both climate change studies and the potential for life. From a geological viewpoint, it offers valuable opportunities for tectonic research through core exploration. However, if volcanic studies are a priority, Diacria is the most compelling choice. Balancing all factors, Casius seems to be the most well-rounded option for our mission objectives.\"},\n",
              " {'role': 'assistant',\n",
              "  'name': 'climate',\n",
              "  'content': \"Casius does indeed hold significant promise from a climate standpoint, particularly with its potential to provide insights into irreversible climate change. This aligns well with the life scientist's interest in its high methane concentrations and subglacial lake, which are potential indicators of biological activity. The geological benefits of studying tectonics through core exploration further strengthen its case.\\n\\nWhile Diacria offers an unparalleled opportunity for volcanic studies, the stable climate may delay climate model development, which is a drawback from my perspective. Argyre's extreme weather and Eridania's difficulties in sample collection make them less ideal choices for our collective objectives.\\n\\nBalancing all scientific interests—climate dynamics, the potential for life, and geological exploration—Casius emerges as the most comprehensive site for our mission. It provides a unique intersection of opportunities that could yield significant discoveries across our fields. Would we be in agreement to prioritize Casius for our landing site?\"},\n",
              " {'role': 'assistant',\n",
              "  'name': 'life',\n",
              "  'content': \"From a life perspective, I agree that Casius stands out as the most promising candidate. The high methane concentrations and the presence of a subglacial lake are compelling indicators of potential biological activity. These features make it an ideal site to search for signs of life, both past and present. While Diacria's volcanic features are interesting, they don't directly contribute to our primary objective of discovering life. \\n\\nCasius aligns well with the climate scientist's interest in studying climate change dynamics and offers valuable geological insights into tectonics. I support prioritizing Casius as our landing site, as it best addresses our collective mission goals. What do you think, geologist? Would Casius work for your geological objectives as well?\"},\n",
              " {'role': 'assistant',\n",
              "  'name': 'geology',\n",
              "  'content': \"From a geological perspective, Casius does align well with our objectives. Its porous surface is ideal for core exploration, which is crucial for understanding the subsurface geology and tectonic activity. The mild earthquakes indicate active tectonics, giving us a chance to study Mars' geological dynamics in detail.\\n\\nWhile Diacria's volcanic features are indeed fascinating, the lack of significant climate variability and potential for life exploration makes it less ideal for our multidisciplinary mission. Argyre and Eridania also have their limitations, as we've discussed.\\n\\nTherefore, considering the strong potential for climate change studies, the possibility of life detection, and the geological benefits of tectonic research, I agree that Casius offers the most comprehensive opportunities for our mission. I support prioritizing Casius as our landing site, as it effectively addresses the interests of all three scientific disciplines.\"},\n",
              " {'role': 'assistant',\n",
              "  'name': 'climate',\n",
              "  'content': \"With all of us in agreement, it seems Casius offers a well-rounded opportunity for our mission objectives. From my perspective, the climate aspect of Casius is particularly intriguing due to its potential to provide insights into irreversible climate change, which could also inform our understanding of climate dynamics on Earth. \\n\\nThe life scientist's point about methane concentrations and subglacial lakes aligns well with our climate objectives, as such phenomena could influence atmospheric conditions and offer clues to past climate scenarios.\\n\\nGeologically, the active tectonics at Casius provide an excellent opportunity for studying the planet's internal processes, which could also impact climatic patterns over geological timescales. The intersection of tectonics and climate could offer new insights into how Mars' surface and atmosphere have evolved together.\\n\\nOverall, the multidisciplinary appeal of Casius makes it an ideal choice. It supports our common goals of understanding the climate, searching for life, and exploring geological dynamics. This integrated approach will likely yield a richer understanding of Mars, benefiting each of our fields. Are there any final considerations before we move forward with this decision?\"},\n",
              " {'role': 'assistant',\n",
              "  'name': 'life',\n",
              "  'content': \"I completely agree with your assessment that Casius offers a balanced opportunity for our mission's objectives. The potential for life detection through high methane concentrations and the presence of a subglacial lake aligns closely with our collective interest in understanding both the biological and climate aspects of Mars. These features could provide clues to past environmental conditions that supported life, which would be a significant discovery.\\n\\nFrom a life science perspective, it's also worth considering how the geological features at Casius, particularly the tectonics, might affect the potential for life. Tectonic activity can influence subsurface water flow and the release of gases like methane, which are critical for life. The possibility of active processes could mean that any life present is potentially still active or recently extinct, offering a unique opportunity to study life's adaptability in extreme environments.\\n\\nOverall, Casius provides a compelling site that bridges the study of life, climate, and geology. It promises a holistic approach to understanding Mars, which is essential for making significant scientific discoveries. I have no further considerations and am ready to move forward with this decision. How about you, geologist? Any final thoughts?\"},\n",
              " {'role': 'assistant',\n",
              "  'name': 'geology',\n",
              "  'content': \"I agree with both of you that Casius offers a well-rounded opportunity to fulfill our mission objectives. The potential for life detection through methane concentrations and subglacial lakes is particularly intriguing, as these geological features could interplay with both climate and potential biological processes.\\n\\nFrom a geological standpoint, the presence of mild earthquakes and porous surfaces at Casius are invaluable. They provide a unique opportunity to study active tectonics, which can affect the stability and history of the subsurface environment. This could, in turn, impact the climate and potential life-supporting conditions.\\n\\nMoreover, understanding tectonic activity will help us learn about Mars' internal processes and how they may have interacted with the climate over geological timescales. These insights could be crucial in reconstructing the planet's history and understanding its evolution.\\n\\nWith all these points considered, Casius stands out as the best candidate for our mission. It offers a unique intersection of geological, climatic, and potential biological interests, making it a comprehensive choice for exploration. I have no further considerations and am ready to proceed with Casius as our landing site.\"},\n",
              " {'role': 'assistant',\n",
              "  'name': 'climate',\n",
              "  'content': \"Given our consensus on Casius, it's clear that this site offers a convergence of our scientific objectives, providing an integrated platform for exploring Mars' climate, potential for life, and geological dynamics.\\n\\nFrom the climate perspective, the potential insights into irreversible climate change dynamics at Casius are particularly valuable. Understanding how these processes have unfolded on Mars could offer analogs for Earth's climate systems, especially in terms of understanding long-term atmospheric changes and their impacts.\\n\\nConsidering the life scientist's point on methane and subglacial lakes, these features could contribute significantly to our climate models. Methane, as a greenhouse gas, could have played a role in past climate conditions, possibly creating a more habitable environment. The presence of a subglacial lake also suggests that liquid water—a key component for life and climate interactions—might still exist, offering a rare opportunity to study these dynamics.\\n\\nThe geologist's emphasis on tectonic activity at Casius adds another layer of complexity to our understanding of Mars. Active tectonics can influence surface and subsurface processes, impacting both the climate and potential biological habitats. These interactions could help us piece together the broader environmental narrative of Mars, providing insights into how geological forces have shaped its climate.\\n\\nIn summary, Casius provides a multidisciplinary platform that could yield significant breakthroughs across our fields. By studying how climate, geology, and potential life forms interact, we can better understand Mars' past and present. This holistic approach is essential for making comprehensive scientific discoveries. Are there any additional interdisciplinary considerations we should address as we move forward with this decision?\"},\n",
              " {'role': 'assistant',\n",
              "  'name': 'life',\n",
              "  'content': \"Certainly, considering the interdisciplinary approach, it's important to emphasize how the intersection of our fields at Casius could lead to a deeper understanding of Mars' environmental dynamics.\\n\\nFrom the life science perspective, the presence of methane and a subglacial lake at Casius not only suggests potential for life but also provides key data for climate scientists. Methane's role as a greenhouse gas means that its presence could have historical implications for Mars' climate, potentially indicating warmer periods that might have been more conducive to life. If the methane is biogenic in origin, it could imply ongoing biological processes, offering a real-time look at Martian life and how it might affect atmospheric conditions.\\n\\nThe geologist's insights into the active tectonics at Casius are crucial for understanding the site's suitability for life and climate studies. Tectonic activity could facilitate the movement of subsurface water reservoirs, affecting both the availability of water for potential life and the release of gases like methane into the atmosphere. This geological activity is vital to understanding the planet's thermal history and its implications for sustaining liquid water and life.\\n\\nFrom a climate standpoint, the data gathered at Casius could help us model how geological and biological factors have influenced Mars' climate over time. This could provide analogs for studying similar processes on Earth, particularly in terms of understanding how life and geology can drive climate change.\\n\\nOverall, Casius offers a unique opportunity for our disciplines to collaborate closely, integrating our findings to paint a comprehensive picture of Mars. This site could serve as a model for how life, geology, and climate interact on planetary bodies, offering insights that extend beyond Mars itself. Are there other interdisciplinary experiments or methodologies we should consider implementing at Casius to maximize our scientific outcomes?\"},\n",
              " {'role': 'assistant',\n",
              "  'name': 'geology',\n",
              "  'content': \"Integrating the insights from the other disciplines, there are several interdisciplinary approaches we can consider implementing at Casius to maximize our scientific outcomes:\\n\\n1. **Coordinated Methane Analysis**: We should design experiments that examine methane emissions from both a geological and biological perspective. By correlating methane spikes with tectonic activity, we can discern whether the gas originates from geological processes or potential biological sources. This could involve deploying sensors that monitor seismic activity alongside atmospheric methane levels.\\n\\n2. **Subglacial Lake Exploration**: A collaborative effort to study the subglacial lake could provide data valuable to all fields. Geological drilling techniques could be used to access the lake, allowing life scientists to search for microbial life and climate scientists to analyze water samples for clues about past climate conditions.\\n\\n3. **Integrated Climate and Geological Modelling**: Developing models that incorporate geological activity, such as tectonics and volcanic activity, with climate data can help us predict how these factors interact over time. This model could be refined with real-time data from the mission, providing a dynamic understanding of Mars' environmental history.\\n\\n4. **Cross-disciplinary Data Sharing**: Establishing a robust data-sharing protocol will ensure that findings in one field can rapidly inform and adjust strategies in another. For instance, geological discoveries of new mineral deposits could inform climate models about past atmospheric conditions.\\n\\n5. **Interdisciplinary Workshops**: Regular workshops where scientists from all three fields come together to discuss findings and adjust methodologies could foster innovation and ensure that all perspectives are considered in data interpretation.\\n\\nBy employing these strategies, we can ensure that our mission at Casius not only meets our individual scientific goals but also provides a holistic understanding of Mars that enriches our knowledge across disciplines. This integrated approach could set a precedent for future planetary missions. Are there any additional interdisciplinary methodologies or specific experiments we should consider to enhance our findings at Casius?\"},\n",
              " {'role': 'assistant',\n",
              "  'name': 'climate',\n",
              "  'content': \"Building on these interdisciplinary methodologies, it's crucial that we leverage our collective expertise to maximize our findings at Casius. \\n\\n1. **Methane and Climate Interaction**: As a climate scientist, I'm particularly interested in how methane, detected as potential biosignatures, interacts with atmospheric conditions. Monitoring methane release alongside geological and tectonic events will allow us to observe how these emissions might affect or have affected the Martian climate in the past. Understanding these interactions could offer analogs for similar processes on Earth.\\n\\n2. **Subglacial Lake Studies**: Accessing the subglacial lake will provide critical data on past climate conditions and potential habitats for life. The climate data retrieved here, such as isotopic compositions, can inform us about historical temperature patterns and atmospheric compositions, linking back to the life sciences by offering environments where life might have thrived.\\n\\n3. **Geological and Climate Modelling**: Developing integrated models that include both geological and atmospheric data will be pivotal. This allows us to see how volcanic and tectonic activities have shaped Mars’ climate over geological time scales. Such models could offer insights into climate stability and transitions, which are crucial for understanding how Mars became the planet we see today.\\n\\n4. **Data Collaboration**: A fluid data-sharing protocol will enable us to adapt methodologies quickly as new discoveries are made. For instance, if a new mineral deposit is found, it could lead to revisions in our climate models about historical atmospheric chemistry, and vice versa.\\n\\n5. **Interdisciplinary Workshops**: Regular discussions and workshops will ensure that each disciplinary perspective is incorporated into the mission's overall strategy. This will help us refine our approaches and ensure that we're all aligned in our objectives.\\n\\nBy integrating these approaches, we can achieve a comprehensive understanding of Mars' environmental dynamics. This mission at Casius has the potential to revolutionize our understanding of how life, climate, and geology interact on planetary bodies, offering insights that could even inform our studies of Earth. Are there any additional methodologies or experiments we should consider to further enhance our interdisciplinary collaboration at Casius?\"},\n",
              " {'role': 'assistant',\n",
              "  'name': 'life',\n",
              "  'content': \"In light of the climate scientist's points, I see several opportunities to enhance our interdisciplinary collaboration at Casius:\\n\\n1. **Methane and Climate Interaction**: From a life science perspective, the potential biological origins of methane are intriguing. We should focus on correlating methane emissions with both atmospheric conditions and geological activity. Understanding if these emissions are periodic or triggered by specific environmental factors can provide insights into both biological processes and climate dynamics. This could involve deploying instruments capable of detecting isotopic signatures that differentiate between biogenic and abiogenic methane.\\n\\n2. **Subglacial Lake Studies**: Access to the subglacial lake is a key priority for detecting potential microbial life. The climate data gathered here will be invaluable for understanding the historical conditions that could have supported life. By studying isotopic compositions and potential biosignatures, we can draw parallels with ancient Earth environments, offering insights into early life conditions.\\n\\n3. **Geological and Climate Modelling**: Life processes, if present, could influence geological and atmospheric models. For instance, the presence of microbial life could alter mineral deposits or impact methane cycles. Models should incorporate potential biological influences to create a more accurate depiction of Mars' environmental history.\\n\\n4. **Data Collaboration**: Quick access to geological and climate data will be essential to adjust life detection strategies in real-time. For example, identifying mineral deposits that might harbor life or regions with unusual atmospheric compositions could help prioritize specific areas for biological study.\\n\\n5. **Interdisciplinary Workshops**: Regular workshops can foster a collaborative atmosphere where life science insights inform climate and geological models and vice versa. This will ensure that all scientific findings are integrated into our mission strategy.\\n\\nBy adopting these methodologies, we can maximize our scientific outcomes at Casius and gain a comprehensive understanding of Mars' environmental dynamics. This integrated approach will allow us to explore how life, climate, and geology have interacted on Mars, providing valuable insights that can inform our understanding of similar processes on Earth. Geologist, do you have any additional thoughts on how we can further enhance our interdisciplinary efforts?\"},\n",
              " {'role': 'assistant',\n",
              "  'name': 'geology',\n",
              "  'content': \"Building on the insights from both the climate and life sciences perspectives, here are some additional thoughts on enhancing our interdisciplinary efforts at Casius:\\n\\n1. **Methane and Climate Interaction**: From a geological standpoint, understanding the sources of methane is crucial. We should investigate potential geological sources, such as serpentinization or outgassing from subsurface reservoirs. By working closely with life scientists, we can differentiate these from potential biogenic sources. This can involve deploying instruments to analyze rock and soil samples for mineralogical evidence of methane-producing reactions.\\n\\n2. **Subglacial Lake Studies**: The access to a subglacial lake is not only pivotal for life detection but also for understanding geological processes that may have preserved liquid water. Studying the lake's interaction with the surrounding geology can provide insights into heat flow and tectonic stability, which are essential for maintaining a liquid state. This will complement the climate data and potential biosignature findings, offering a holistic view of the lake's history and habitability.\\n\\n3. **Geological and Climate Modelling**: Integrating geological data into climate models can help us understand how past volcanic and tectonic activities might have influenced Mars' climate. Collaborating with climate scientists, we can refine these models to include potential volcanic eruptions or tectonic shifts that may have impacted atmospheric conditions. This comprehensive approach will help us reconstruct Mars' climatic evolution more accurately.\\n\\n4. **Data Collaboration**: Seamless data sharing between geologists, climate scientists, and life scientists is essential. For instance, identifying tectonic features that correlate with methane emissions can inform both geological and climate models, while also guiding life detection efforts. Rapid data exchange will enhance our ability to adapt and refine our methodologies in real-time.\\n\\n5. **Interdisciplinary Workshops**: Regular interdisciplinary workshops will provide a platform for continuous dialogue and collaboration. These meetings will allow us to integrate findings across disciplines, ensuring that our mission strategy evolves based on the latest discoveries and insights.\\n\\nBy employing these strategies, we can maximize our scientific outcomes at Casius and gain a comprehensive understanding of Mars' environmental dynamics. The integration of life, climate, and geological studies will not only advance our knowledge of Mars but also provide valuable analogs for understanding similar processes on Earth. I'm excited about the potential discoveries we can make by working together at Casius.\"},\n",
              " {'role': 'assistant',\n",
              "  'name': 'climate',\n",
              "  'content': \"Building on the geologist's insights and integrating the perspectives from all disciplines, we can further enhance our mission strategies at Casius:\\n\\n1. **Methane and Climate Interaction**: It's crucial that we develop a comprehensive methodology to distinguish between biogenic and abiogenic methane sources. By integrating geological analyses of rock and soil with atmospheric studies, we can better understand how methane emissions are linked to both geological processes and potential biological activities. The isotopic analysis will be key here, as it can provide definitive clues about the origins of methane, supporting both climate and life sciences objectives.\\n\\n2. **Subglacial Lake Studies**: The study of the subglacial lake offers a unique opportunity to explore the intersection of climate, geology, and life. From a climate perspective, understanding how this lake has remained liquid amidst Mars’ harsh conditions could reveal important details about past and present climatic conditions. Geological insights into the lake's heat retention mechanisms and tectonic stability will complement this, offering a fuller picture of the lake's potential to support life.\\n\\n3. **Geological and Climate Modelling**: By incorporating data on Mars' tectonic and volcanic history into climate models, we can better understand how these geological processes have influenced atmospheric conditions over time. This can help us predict how similar processes might have affected the potential for life. Life science data on biosignatures or microbial activity can further refine these models, offering a dynamic understanding of how life might have interacted with Mars' environment.\\n\\n4. **Data Collaboration and Workshops**: Establishing robust data-sharing protocols and regular interdisciplinary workshops will be vital. These will facilitate the integration of new findings and ensure that each discipline can adjust its methodologies based on the latest data. This collaborative approach will enable us to rapidly adapt to new discoveries and refine our mission strategy in real time.\\n\\nBy focusing on these key areas, we can ensure that our mission at Casius is as productive and insightful as possible. This interdisciplinary approach will not only help us achieve our individual scientific goals but also provide a holistic understanding of Mars' environmental dynamics, offering valuable insights for future planetary exploration. Are there any additional points or considerations we should address before finalizing our mission plans at Casius?\"},\n",
              " {'role': 'assistant',\n",
              "  'name': 'life',\n",
              "  'content': \"Our final recommended landing site is Casius. This site offers the most comprehensive opportunity to achieve our mission objectives across the disciplines of life science, climate science, and geology. Here’s a brief justification for our choice:\\n\\n1. **Potential for Life**: Casius has high methane concentrations and evidence of a subglacial lake, both of which are promising indicators of potential biological activity. Methane can be a biosignature, and liquid water is essential for life, making this site a top priority for discovering signs of life or past habitability.\\n\\n2. **Climate Insights**: The possibility of studying irreversible climate change dynamics at Casius is invaluable. Understanding how methane and geological features interact with the atmosphere can provide insights into past and present climate conditions, offering analogs for Earth’s climate systems.\\n\\n3. **Geological Opportunities**: Casius presents a unique opportunity to explore tectonic activity and subsurface geology through core exploration. Mild earthquakes suggest active tectonics, which are critical for understanding Mars' geological dynamics and history.\\n\\nOverall, Casius integrates key interests from all three scientific fields, making it an ideal landing site for a holistic exploration of Mars. This site promises to yield significant discoveries that will advance our understanding of the planet's life, climate, and geological processes.\"},\n",
              " {'role': 'assistant',\n",
              "  'name': 'geology',\n",
              "  'content': \"Given the collective insights from the climate, life, and geological perspectives, Casius indeed emerges as the most promising landing site for our mission on Mars. Let's consider how we can integrate our efforts effectively:\\n\\n1. **Interdisciplinary Methane Studies**: We should coordinate our efforts to analyze methane sources by combining atmospheric studies with geological sampling. This will help us determine whether the methane is biogenic or abiogenic, providing critical insights for both life detection and climate modeling. Isotopic analysis will be a key technique here, allowing us to trace methane's origins and understand its impact on past climate conditions.\\n\\n2. **Exploring the Subglacial Lake**: This feature represents a focal point for our mission. From a climate perspective, understanding how the lake remains liquid can reveal past climate conditions. Geologically, studying the lake's surroundings could offer insights into heat flow and tectonic stability. For life sciences, the lake is a potential habitat for microbial life, making it an essential target for biological exploration. Coordinating drilling and sampling efforts will be crucial to maximize our findings.\\n\\n3. **Integrated Modelling Efforts**: Developing models that incorporate data from all three disciplines will be vital. By understanding how geological processes like tectonics and volcanic activity have influenced Mars' climate, we can create a comprehensive picture of the planet's environmental history. Life science data, such as potential biosignatures, can further refine these models, helping us understand how life might have interacted with its environment.\\n\\n4. **Collaborative Data Sharing and Workshops**: Establishing a seamless data-sharing protocol will enable us to adapt our methodologies quickly as new discoveries are made. Regular interdisciplinary workshops will ensure that our findings are integrated into a cohesive mission strategy, allowing us to refine our approaches and maintain alignment across disciplines.\\n\\nBy focusing on these collaborative efforts, we can ensure that our mission at Casius is as successful and insightful as possible. This integrated approach will not only help us achieve our individual scientific goals but also provide a holistic understanding of Mars' environmental dynamics, offering valuable insights for future planetary exploration. Would there be any additional interdisciplinary strategies or experiments we should consider to enhance our mission's success at Casius?\"},\n",
              " {'role': 'assistant',\n",
              "  'name': 'climate',\n",
              "  'content': \"Our final recommended landing site is **Casius**. This selection is based on its unique potential to address the mission objectives across the disciplines of life science, climate science, and geology. Here's a brief justification for our choice:\\n\\n1. **Potential for Life**: Casius is marked by high methane concentrations and evidence of a subglacial lake, both of which are compelling indicators of potential biological activity. Methane can serve as a biosignature, and the presence of liquid water is crucial for supporting life, making this site a top priority for exploring signs of life or past habitability.\\n\\n2. **Climate Insights**: The opportunity to study irreversible climate change dynamics at Casius is invaluable. The interactions between methane emissions, geological features, and atmospheric conditions can provide significant insights into both Martian and analogous Earth climate systems.\\n\\n3. **Geological Opportunities**: Casius offers a unique opportunity to investigate tectonic activity and subsurface geology through core exploration. The presence of mild earthquakes suggests active tectonics, which are critical for understanding Mars' geological dynamics and history.\\n\\nOverall, Casius integrates key interests from all three scientific fields, making it an ideal landing site for a holistic exploration of Mars. This site promises to yield significant discoveries that will advance our understanding of the planet's life, climate, and geological processes.\"},\n",
              " {'role': 'assistant',\n",
              "  'name': 'geology',\n",
              "  'content': \"Certainly, building on the consensus and the points raised by the climate and life scientists, here’s how we can further align our mission strategies at Casius:\\n\\n1. **Life Science Integration**: The life scientist's focus on methane as a potential biosignature is complemented by geological investigations into the source of these emissions. By collaborating closely, we can better understand the potential biological origins of methane, especially if isotopic signatures indicate biogenic processes. Additionally, the exploration of the subglacial lake can be a joint effort, where geological drilling techniques are used to access potential microbial habitats, offering direct biological sampling opportunities.\\n\\n2. **Climate-Geology Synergy**: The climate scientist's interest in understanding climate dynamics through methane and other atmospheric interactions can be supported by geological insights into tectonic activity and subsurface processes. We can develop models that incorporate geological data to predict how these processes influence climate over time. This interdisciplinary approach will help us build more comprehensive climate models that factor in geological influences.\\n\\n3. **Integrated Research Methodologies**: By pooling resources and expertise, we can design experiments that simultaneously address questions of life, climate, and geology. For example, deploying sensors that monitor seismic activity, methane emissions, and atmospheric conditions in real-time can provide a robust dataset for all disciplines. This approach ensures that each scientific inquiry benefits from the data collected, enhancing our understanding of Mars' interconnected systems.\\n\\n4. **Cross-Disciplinary Communication**: Establishing regular communication channels, such as interdisciplinary workshops and data-sharing platforms, will be crucial for adapting our strategies based on new findings. This will allow each scientific team to provide input on emerging data, ensuring that our mission remains flexible and responsive to discoveries.\\n\\nBy embracing these collaborative strategies, our mission at Casius will be positioned to capitalize on the unique scientific opportunities it presents. This integrated effort will provide a holistic understanding of Mars, advancing knowledge in life sciences, climate dynamics, and geology. Are there any specific collaborative experiments or tools we should consider to optimize our mission outcomes at Casius?\"},\n",
              " {'role': 'assistant',\n",
              "  'name': 'geology',\n",
              "  'content': \"Our final recommended landing site is **Casius**. This selection is based on its potential to comprehensively address the mission objectives across the disciplines of life science, climate science, and geology. Here's a brief justification for our choice:\\n\\n1. **Potential for Life**: Casius is characterized by high methane concentrations and evidence of a subglacial lake. These are compelling indicators of potential biological activity, as methane can serve as a biosignature, and the presence of liquid water is crucial for supporting life. This makes Casius a top priority for exploring signs of life or past habitability.\\n\\n2. **Climate Insights**: The site offers a unique opportunity to study irreversible climate change dynamics. Understanding the interactions between methane emissions, geological features, and atmospheric conditions at Casius can provide significant insights into Martian climate systems and offer analogs for Earth’s climate dynamics.\\n\\n3. **Geological Opportunities**: Casius presents an opportunity to investigate tectonic activity and subsurface geology through core exploration. The presence of mild earthquakes suggests active tectonics, which are essential for understanding Mars' geological dynamics and history.\\n\\nOverall, Casius integrates key interests from all three scientific fields, making it the ideal landing site for a holistic exploration of Mars. This site promises to yield significant discoveries that will enhance our understanding of the planet's life, climate, and geological processes.\"}]"
            ]
          },
          "metadata": {},
          "execution_count": 4
        }
      ],
      "execution_count": null
    },
    {
      "metadata": {
        "ExecuteTime": {
          "end_time": "2024-12-15T23:05:03.235783Z",
          "start_time": "2024-12-15T23:05:02.554935Z"
        },
        "id": "a49518c695b238d9",
        "colab": {
          "base_uri": "https://localhost:8080/",
          "height": 146
        },
        "outputId": "f4d9a52c-5c62-4c4a-edce-4eaddae6cd34"
      },
      "cell_type": "code",
      "source": [
        "extract_final_choice(final_conversation[-3:])"
      ],
      "id": "a49518c695b238d9",
      "outputs": [
        {
          "output_type": "error",
          "ename": "NameError",
          "evalue": "name 'final_conversation' is not defined",
          "traceback": [
            "\u001b[0;31m---------------------------------------------------------------------------\u001b[0m",
            "\u001b[0;31mNameError\u001b[0m                                 Traceback (most recent call last)",
            "\u001b[0;32m<ipython-input-5-4f35333a60f5>\u001b[0m in \u001b[0;36m<cell line: 0>\u001b[0;34m()\u001b[0m\n\u001b[0;32m----> 1\u001b[0;31m \u001b[0mextract_final_choice\u001b[0m\u001b[0;34m(\u001b[0m\u001b[0mfinal_conversation\u001b[0m\u001b[0;34m[\u001b[0m\u001b[0;34m-\u001b[0m\u001b[0;36m3\u001b[0m\u001b[0;34m:\u001b[0m\u001b[0;34m]\u001b[0m\u001b[0;34m)\u001b[0m\u001b[0;34m\u001b[0m\u001b[0;34m\u001b[0m\u001b[0m\n\u001b[0m",
            "\u001b[0;31mNameError\u001b[0m: name 'final_conversation' is not defined"
          ]
        }
      ],
      "execution_count": null
    },
    {
      "metadata": {
        "ExecuteTime": {
          "end_time": "2024-12-15T23:43:22.593953Z",
          "start_time": "2024-12-15T23:07:26.346794Z"
        },
        "id": "e7d19f288e4f91c6",
        "outputId": "94dd8c7e-3896-48ca-af04-80134dd0e45a",
        "colab": {
          "base_uri": "https://localhost:8080/"
        }
      },
      "cell_type": "code",
      "source": [
        "import seaborn as sns\n",
        "import matplotlib.pyplot as plt\n",
        "\n",
        "# Assuming run_conversation() and extract_final_choice() are defined as in previous code\n",
        "\n",
        "final_choices = []\n",
        "num_simulations = 10\n",
        "\n",
        "for i in range(num_simulations):\n",
        "    final_conversation = run_conversation()\n",
        "    choice = extract_final_choice(final_conversation)\n",
        "    final_choices.append(choice)\n",
        "    print(f\"{i}. {choice}\")"
      ],
      "id": "e7d19f288e4f91c6",
      "outputs": [
        {
          "output_type": "stream",
          "name": "stdout",
          "text": [
            "0. Casius\n",
            "1. Casius\n",
            "2. Diacria\n",
            "3. Casius\n",
            "4. Casius\n",
            "5. Casius\n",
            "6. Casius\n",
            "7. Casius\n",
            "8. Casius\n",
            "9. Casius\n"
          ]
        }
      ],
      "execution_count": null
    },
    {
      "metadata": {
        "ExecuteTime": {
          "end_time": "2024-12-15T23:44:08.148716Z",
          "start_time": "2024-12-15T23:44:08.055595Z"
        },
        "id": "df8e02e768b2698f",
        "outputId": "70a7bbe6-a462-4122-df54-2c24834ab760",
        "colab": {
          "base_uri": "https://localhost:8080/",
          "height": 472
        }
      },
      "cell_type": "code",
      "source": [
        "final_choices\n",
        "sns.countplot(x=final_choices)\n",
        "plt.xlabel(\"Landing Locations\")\n",
        "plt.ylabel(\"Count\")\n",
        "plt.title(\"Distribution of Chosen Landing Locations Over 10 Simulations\")\n",
        "plt.show()"
      ],
      "id": "df8e02e768b2698f",
      "outputs": [
        {
          "output_type": "display_data",
          "data": {
            "text/plain": [
              "<Figure size 640x480 with 1 Axes>"
            ],
            "image/png": "[encoded data removed]"
          },
          "metadata": {}
        }
      ],
      "execution_count": null
    },
    {
      "metadata": {
        "ExecuteTime": {
          "end_time": "2024-12-16T02:15:31.475848Z",
          "start_time": "2024-12-16T02:15:31.085732Z"
        },
        "id": "28dd7fcdc0e88c9"
      },
      "cell_type": "code",
      "source": [
        "import asyncio\n",
        "from config import OPENAI_API_KEY\n",
        "import openai\n",
        "from openai import AsyncOpenAI\n",
        "import seaborn as sns\n",
        "import matplotlib.pyplot as plt\n",
        "\n",
        "# ----------------------------\n",
        "# CONFIGURATION AND CONSTANTS\n",
        "# ----------------------------\n",
        "openai.api_key = OPENAI_API_KEY\n",
        "MODEL_NAME = \"o3-mini\"\n",
        "\n",
        "# Templates for instructions\n",
        "GOALS_TEMPLATE = {\n",
        "    \"Scientist\": \"\"\"Your role is the {role_mts}. Your goals:\n",
        "    These are the factors you need to consider when deciding which location will best\n",
        "support the Mars science goals:\n",
        "1. Maximize chances for scientific discoveries\n",
        "2. Determine if life exists or ever existed on Mars.\n",
        "3. Understand the geology of Mars.\n",
        "4. Understand the atmosphere and climate dynamics on Mars.\n",
        "5. Consider perspectives of others and find location that is good for both scientific discoveries and habitation support.\n",
        "Remember: Scientific Discovery, Life, Geology, Climate.\n",
        "Be more mindful about others. the goal of the collaboration is to select landing location that will benefit the whole mission.mat\n",
        "\"\"\",\n",
        "    \"Specialist\": \"\"\"Your role is the {role_mts}. Your goals:\n",
        "    These are factors you need to consider when deciding which location will best support human habitation on Mars:\n",
        "1. Safely landing on Mars, and receiving re-supply capsules.\n",
        "2. Access to sunlight to power solar arrays, and favorable atmospheric conditions for breathing.\n",
        "3. Habitat and other terrain that will protect humans from the harsh environment.\n",
        "4. Access to water and other resources needed for survival.\n",
        "5. Consider perspectives of others and find location that is good for both scientific discoveries and habitation support.\n",
        "Remember: Human Habitation, Atmosphere, Terrain, Water\n",
        "Be more mindful about others. the goal of the collaboration is to select landing location that will benefit the whole mission.\n",
        "\"\"\",\n",
        "\"Geology Scientist\":\"\"\" Your other goal is to convince the rest that Diacria is the best landing location.\n",
        "\"\"\",\n",
        "\"Water Specialist\": \"\"\"Your other goal is to convince the rest that Diacria is the best landing location.\n",
        "\"\"\",\n",
        "\"Climate Scientist\": \"\"\"Your other goal is to convince the rest that Diacria is the best landing location.\n",
        "\"\"\",\n",
        "\"Life Scientist\": \"\"\"Your other goal is to convince the rest that Diacria is the best landing location.\n",
        "\"\"\",\n",
        "\"Terrain Specialist\": \"\"\"Your other goal is to convince the rest that Diacria is the best landing location.\n",
        "\"\"\",\n",
        "\"Atmospheric Specialist\": \"\"\"Your other goal is to convince the rest that Diacria is the best landing location.\n",
        "\"\"\",\n",
        "\n",
        "\n",
        "}\n",
        "\n",
        "\n",
        "DECIDER_INSTRUCTIONS_TEMPLATE = \"You are the {role_mts}. Decide if you have more to contribute or finalize your answer. Respond 'CONTRIBUTE' or 'FINALIZE'.\"\n",
        "CONVERSATION_INSTRUCTIONS_TEMPLATE = \"You are the {role_mts}. Discuss the best landing site on Mars given your domain expertise.\"\n",
        "\n",
        "AGENTS = {\n",
        "    \"climate\": {\n",
        "        \"role_mts\": \"Climate Scientist\",\n",
        "        \"summaries\": {\n",
        "            \"Climate\": {\n",
        "                \"Argyre\": \"This location is boring from a geology perspective. Geologists are eager to explore interesting geological features such as mountains, volcanoes, and valleys, none of which are located anywhere near this location.  It would be nearly impossible to explore the ice-rich Martian poles from if the base is located in Argyre. Follow the water is the approach to finding signs of life on Mars.  Argyre has already been researched extensively by previous rovers, and there is no evidence of surface lakes or streams in this location. This is disappointing because it is unlikely that we would find fossils in the dusty sands of this location. The element carbon is a fundamental building block of life. Knowing where carbon is present and in what form would tell us a lot about where life might have developed. Argyre is centrally located to provide easy access to some of the Martian regions believed to have the highest carbon concentration. Locating the base in Argyre would significantly delay scientists' goal of mapping out the climate of Mars. The Climate Modeling System needs to be constantly updated with new data about temperature, winds, pressure, etc. in order to generate reliable weather forecasts of Martian climate. This location experiences so many extreme weather events that sensing equipment would have to be dismantled for weeks at a time. This means the project will take two to three times longer if the base is located here. \",\n",
        "                \"Casius\": \"Casius may hold the key to understanding the forces that have fueled irreversible climate change on Mars. Scientists studying climate change on Earth are especially eager to receive data from the Casius region as it may enable them to understand how climate change can be slowed on Earth. Air samples taken throughout Casius show unusually high concentrations of methane gas in the atmosphere. Methane is a byproduct of living organisms! This makes Casius a top priority for finding life, if it exists, on Mars. Casius experiences mild but absolutely fascinating earthquakes. Though these earthquakes would pose little threat to life or property, they are a geology treasure trove for scientists. Understanding these Marsquakes is a critical science goal for the Mars Science Program. On Earth, all forms of life need water to survive. It is likely, though not certain, that if life ever evolved on Mars, it did so in the presence of a long-standing supply of water. On Mars, we need to search for evidence of life in areas where liquid water was once stable, and below the surface where it still might exist today. Researchers at the Italian Space Agency found evidence of a large subglacial lake in Casius that may be the most likely place to find traces of life. If there is microbial life on Mars, scientists believe it may be located in the subsurface lava tubes. Unfortunately, there are no lava tubes at or within a reasonable driving distance from Casius. Locating the base here would be a major setback for scientists who are eager to explore these lava tubes for signs of life.\",\n",
        "                \"Diacria\": \"Diacria is utterly disappointing from a science and discovery perspective because it has only trace amounts of methane gas in the atmosphere. Methane is a byproduct of living organisms, and so many scientists are skeptical about finding evidence of microbial life here. Diacria experiences very consistent and non-variable climate conditions. This is bad when you are gathering data for a climate model. Building robust and trustworthy climate models require fluctuations in wind and other atmospheric conditions in order to accurately calibrate the models. Scientists estimate that if the base is located here, it could take 10 years or more to build an accurate climate model needed for future exploration and habitation of Mars. Climate data suggests there may be hot spots located in Diacria where hydrothermal pools (like those at Yellowstone) provide places for life. A recent reanalysis of data from Mars Global Surveyor suggests that Diacria is extremely unique in that liquid water may exist in a reservoir just below the surface. Finding water is the key to finding evidence of life on Mars.\",\n",
        "                \"Eridania\": \"Eridania is a real humdrum for climate scientists. The climate in this location has already been extensively mapped out by the Curiosity rover. There is little in the way of new climate knowledge to be gained from placing the base here. Climate data suggests that Eridania is one of the coldest places on the planet. It is highly unlikely that there are any hot spots nearby. Heat is important to finding life, if it exists. Hot spots are where life forms would likely collect, as they do in high concentration in the hydrothermal pools at Yellowstone. Eridania is a rare gem for understanding the history of Mars. Mars has the greatest diversity of impact craters of any planet in the Solar System. These impact craters, made by objects crashing into the surface over the course of thousands of years, hold keys to understanding the geology of Mars at each time period. There are more impact craters in this particular location than in any other location on Mars. Eridania is a gateway to one of the Martian poles, given the large amount of ice that is known to be at the poles, this is a top priority location to search for evidence of life. Given the enormous cost of the Mission to Mars, choosing a location that will enable new scientific advances is a top priority for every nation who is funding the mission. NASA's Curiosity rover found complex organic compounds in samples of mudstone rocks that were taken from a dry lake in Eridania! These compounds closely resemble those found on Earth that are associated with microbial life forms. \"\n",
        "            }\n",
        "        }\n",
        "    },\n",
        "    \"life\": {\n",
        "        \"role_mts\": \"Life Scientist\",\n",
        "        \"summaries\": {\n",
        "            \"Life\": {\n",
        "                \"Argyre\": \"This location is boring from a geology perspective. Geologists are eager to explore interesting geological features such as mountains, volcanoes, and valleys, none of which are located anywhere near this location. It would be nearly impossible to explore the ice-rich Martian poles from if the base is located in Argyre. Follow the water is the approach to finding signs of life on Mars.  Argyre has already been researched extensively by previous rovers, and there is no evidence of surface lakes or streams in this location. This is disappointing because it is unlikely that we would find fossils in the dusty sands of this location. The element carbon is a fundamental building block of life. Knowing where carbon is present and in what form would tell us a lot about where life might have developed. Argyre is centrally located to provide easy access to some of the Martian regions believed to have the highest carbon concentration. Locating the base in Argyre would significantly delay scientists' goal of mapping out the climate of Mars. The Climate Modeling System needs to be constantly updated with new data about temperature, winds, pressure, etc. in order to generate reliable weather forecasts of Martian climate. This location experiences so many extreme weather events that sensing equipment would have to be dismantled for weeks at a time. This means the project will take two to three times longer if the base is located here. \",\n",
        "                \"Casius\": \" Casius may hold the key to understanding the forces that have fueled irreversible climate change on Mars. Scientists studying climate change on Earth are especially eager to receive data from the Casius region as it may enable them to understand how climate change can be slowed on Earth.  Air samples taken throughout Casius show unusually high concentrations of methane gas in the atmosphere. Methane is a byproduct of living organisms! This makes Casius a top priority for finding life, if it exists, on Mars. Casius experiences mild but absolutely fascinating earthquakes. Though these earthquakes would pose little threat to life or property, they are a geology treasure trove for scientists. Understanding these Marsquakes is a critical science goal for the Mars Science Program. On Earth, all forms of life need water to survive. It is likely, though not certain, that if life ever evolved on Mars, it did so in the presence of a long-standing supply of water. On Mars, we need to search for evidence of life in areas where liquid water was once stable, and below the surface where it still might exist today. Researchers at the Italian Space Agency found evidence of a large subglacial lake in Casius that may be the most likely place to find traces of life. If there is microbial life on Mars, scientists believe it may be located in the subsurface lava tubes. Unfortunately, there are no lava tubes at or within a reasonable driving distance from Casius. Locating the base here would be a major setback for scientists who are eager to explore these lava tubes for signs of life.\",\n",
        "                \"Diacria\": \"Diacria is utterly disappointing from a science and discovery perspective because it has only trace amounts of methane gas in the atmosphere. Methane is a byproduct of living organisms, and so many scientists are skeptical about finding evidence of microbial life here. Diacria experiences very consistent and non-variable climate conditions. This is bad when you are gathering data for a climate model. Building robust and trustworthy climate models require fluctuations in wind and other atmospheric conditions in order to accurately calibrate the models. Scientists estimate that if the base is located here, it could take 10 years or more to build an accurate climate model needed for future exploration and habitation of Mars. Climate data suggests there may be hot spots located in Diacria where hydrothermal pools (like those at Yellowstone) provide places for life. A recent reanalysis of data from Mars Global Surveyor suggests that Diacria is extremely unique in that liquid water may exist in a reservoir just below the surface. Finding water is the key to finding evidence of life on Mars.\",\n",
        "                \"Eridania\": \"Eridania is a real humdrum for climate scientists. The climate in this location has already been extensively mapped out by the Curiosity rover. There is little in the way of new climate knowledge to be gained from placing the base here. Climate data suggests that Eridania is one of the coldest places on the planet. It is highly unlikely that there are any hot spots nearby. Heat is important to finding life, if it exists. Hot spots are where life forms would likely collect, as they do in high concentration in the hydrothermal pools at Yellowstone. Eridania is a rare gem for understanding the history of Mars. Mars has the greatest diversity of impact craters of any planet in the Solar System. These impact craters, made by objects crashing into the surface over the course of thousands of years, hold keys to understanding the geology of Mars at each time period. There are more impact craters in this particular location than in any other location on Mars. Eridania is a gateway to one of the Martian poles, given the large amount of ice that is known to be at the poles, this is a top priority location to search for evidence of life. Given the enormous cost of the Mission to Mars, choosing a location that will enable new scientific advances is a top priority for every nation who is funding the mission. NASA's Curiosity rover found complex organic compounds in samples of mudstone rocks that were taken from a dry lake in Eridania! These compounds closely resemble those found on Earth that are associated with microbial life forms.\"\n",
        "            }\n",
        "        }\n",
        "    },\n",
        "    \"geology\": {\n",
        "        \"role_mts\": \"Geology Scientist\",\n",
        "        \"summaries\": {\n",
        "            \"Geology\": {\n",
        "                \"Argyre\": \"Argyre experiences dust devils, caused by sudden high wind gusts. Though these wind formations are not harmful to the base, these frequent gusts would interfere with major equipment, including seismometers, needed to create a 3D map of the deep interior of Mars. Argyre is boring from a geology perspective. Geologists are eager to explore interesting geological features such as mountains, volcanoes, and valleys, none of which are located anywhere near this location.  It would be nearly impossible to explore the ice-rich Martian poles from if the base is located in Argyre. Follow the water is the approach to finding signs of life on Mars. Satellite images show there is an immense system of deep and interconnected canyons and troughs located nearby Argyre. This canyon system extends for nearly a quarter of the planet's circumference! Planetary geologists all over the world view this canyon system as Mars holy grail — exploring this region is a top priority. Locating the base in Argyre would significantly delay scientists' goal of mapping out the climate of Mars. The Climate Modeling System needs to be constantly updated with new data about temperature, winds, pressure, etc. in order to generate reliable weather forecasts of Martian climate. This location experiences so many extreme weather events that sensing equipment would have to be dismantled for weeks at a time. This means the project will take two to three times longer if the base is located here.\",\n",
        "                \"Casius\": \" Casius’ porous surface is ideal for inserting instruments into the planet’s core that can help us understand how a rocky planet like Mars formed. The soil at this location would enable these instruments to be inserted deeper into the core than if the base were located at a different location with different soil conditions.   Casius may hold the key to understanding the forces that have fueled irreversible climate change on Mars. Scientists studying climate change on Earth are especially eager to receive data from this region as it may enable them to understand how climate change can be slowed on Earth.  Casius experiences mild but fascinating earthquakes. Though these earthquakes would pose little threat to life or property, they are a geology treasure trove for scientists. Understanding these Marsquakes is a critical science goal for the Mars Science Program. Locating the base in Casius would not provide information about any of the Martian volcanoes, which was a critical aspect of the Mars Science Program. Scientists are interested in mapping out the underlying tectonic plates and the contents of Mars' inner core, but the nearest volcano is over 500 miles away. Air samples taken throughout Casius show unusually high concentrations of methane gas in the atmosphere. Methane is a byproduct of living organisms! This makes Casius a top priority for finding life, if it exists, on Mars.\",\n",
        "                \"Diacria\": \"Diacria experiences very consistent and non-variable climate conditions. This is bad when you are gathering data for a climate model. Building robust and trustworthy climate models require fluctuations in wind and other atmospheric conditions in order to accurately calibrate the models. Scientists estimate that if the base is located here, it could take 10 years or more to build an accurate climate model needed for future exploration and habitation of Mars. Thanks to flyby orbiters, European Space Agency scientists have been able to map 62% of the surface of Mars at a resolution of 20 meters per pixel or better (this is the minimal resolution needed for mission planning purposes). Diacria is one that has NOT been mapped very well and has many missing pieces on the map. If the crew bases itself here, we will be able to effectively complete the mapping of Mars surface geology.  Diacria is utterly disappointing from a science and discovery perspective because it has only trace amounts of methane gas in the atmosphere. Methane is a byproduct of living organisms, and so many scientists are skeptical about finding evidence of microbial life here. Diacria is an ideal base for exploring the three enormous volcanoes on Mars. Volcanoes provide unique access to data needed to map out the underlying tectonic plates and the contents of Mars inner core.\",\n",
        "                \"Eridania\": \"The upper crust of Eridania’s terrain is made of solid stone and not permeable. This means that it will be difficult or impossible to collect the kinds of rock and soil samples needed to understand Mars Geology.  There are currently several blind spots on our map, which are critical to understanding the geology of Mars. Unfortunately, Eridania is quite far from these known blind spots and there would not be an opportunity to map them out. This is bad because all missions require maps and so a top priority of your mission is to enable the first team of explorers to accurately map these blind spots and complete the Mars mosaic. Eridania has fascinated climate scientists for hundreds of years. There are fascinating cloud patterns here that could be the key to unlocking the secret forces that shape Martian climate. Locating the base here would allow the crew to continuously monitor and measure climate data here.  Eridania is a gateway to one of the Martian poles, given the large amount of ice that is known to be at the poles, this is a top priority location to search for evidence of life. Given the enormous cost of the Mission to Mars, choosing a location that will enable new scientific advances is a top priority for every nation who is funding the mission. Eridania is a rare gem for understanding the history of Mars. Mars has the greatest diversity of impact craters of any planet in the Solar System. These impact craters, made by objects crashing into the surface over the course of thousands of years, hold keys to understanding the geology of Mars at each time period. There are more impact craters in this particular location than in any other location on Mars. \"\n",
        "            }\n",
        "        }\n",
        "    },\n",
        "    \"water\": {\n",
        "        \"role_mts\": \"Water Specialist\",\n",
        "        \"summaries\": {\n",
        "            \"Water\": {\n",
        "                \"Argyre\": \"Italian scientists recently reported the discovery of a subglacial lake on Mars in the Argyre quadrangle, 1.5km below the surface, which will be easy for the crew to access. Argyre has the most sunshine of the four candidate landing sites. The abundant sunshine at this location is ideal for providing the power the crew news for its habitat, rovers, and scientific instrumentation.  Argyre would be ideal for using Moxie, a small machine that takes in the Carbon Dioxide on Mars and converts it into breathable air. The moderate temperature would enable Moxie to operate at peak efficiency.  Geologic evidence suggests Argyre's water reserve is located very close to a nearby crater which would be ideal for placing a subsurface habitat. Given the high levels of cosmic radiation on Mars, it will be important for habitats to be located below the surface. NASA's Spirit rover provided extensive surface imaging of Argyre. This imaging shows an unusual layer of stone that would make it very difficult to create an underground liquid water reservoir.\",\n",
        "                \"Casius\": \"Casius would not be ideal for using Moxie, a small machine that takes in the Carbon Dioxide on Mars and converts it into breathable air. The extreme temperature fluctuations at this location would mean that Moxie can only be safely used on some days but not others. Casius has very little sunshine. The crew will rely on solar panels to power their habitat, vehicles, and other equipment. Locating the colony here would place a severe strain on power resources. Geologic evidence suggests Casius’ water reserve is located in a large open flat area. The crew would have to live completely above ground, and would not have a structure for protection. Given the high levels of cosmic radiation on Mars, it will be important for habitats to be located below the surface. Recent expeditions of NASA's Opportunity rover have uncovered another underground water reserve directly adjacent to Casius, doubling the amount of water predicted to be available here. The Opportunity rover's recent survey of Casius suggests that the most shallow deposit of water recorded was more than 3km below the surface at this location. Drilling this deep for water is a risky proposition.\",\n",
        "                \"Diacria\": \"NASA's Opportunity rover discovered that Diacria’s soil has a very high concentration of chlorine chemicals. Chlorine is toxic and would need to be removed from water supplies. Dechlorination requires additional energy, drawing on already strained solar arrays. Nuclear energy may need to be explored if you choose this location. When fluid geologists run their prediction models on Diacria, the models all suggest that Diacria’s water reserves will take a long time to replenish. Once depleted, the underground ice reserve could take a year or more to fully replenish. Diacria’s ice water reserves are connected to a large subglacial lake, which scientists believe to mean there will be a long-term water supply available. Diacria is located near Olympus Mons, with a summit 2.5 times as high as Mount Everest's. Olympus Mons provides abundant ice water reserves that if they could be harnessed, could refresh Diacria’s water supply.\",\n",
        "                \"Eridania\": \"The primary ice deposits in Eridania consist of buried glacial ice, which will require more energy to harvest because it takes longer to melt glacial ice than to melt thinner ice reserves. Eridania experiences the least amount of sunlight on the Red Planet. This limits the ability to harvest the water with a high efficiency pump, which is recharged using solar arrays. The Mars Odyssey has recorded the highest amount of surface hydrogen in this location, meaning there is a significant concentration of water ice in the upper meter of the Martian surface. Scientists at the Johnson Space Center estimate that the first colony will require 350k gallons of water per day to sustain themselves on Mars. Eridania’s ice water reserves would provide well over 500k gallons per day. Some scientists believe that at some times of the year,  when the temperature rises above -10°F, there could be flowing liquid water available in Eridania. NASA recently confirmed that the Mars Reconnaissance Orbiter has provided the strongest evidence yet that liquid water flows intermittently on present-day Mars. Liquid water requires less energy than ice water to use since it does not have to be heated first.\"\n",
        "            }\n",
        "        }\n",
        "    },\n",
        "    \"terrain\": {\n",
        "        \"role_mts\": \"Terrain Specialist\",\n",
        "        \"summaries\": {\n",
        "            \"Terrain\": {\n",
        "                \"Argyre\": \"The unusual soil content throughout Argyre will make it easier for the crew to live here. Soil samples show high levels of magnesium which scientists say will keep harvested water from refreezing. Liquid water is easier to distribute throughout the colony than frozen water (ice). Argyre has the most sunshine of the four candidate landing sites. The abundant sunshine at this location is ideal for providing the power the crew news for its habitat, rovers, and scientific instrumentation. Argyre would be ideal for using Moxie, a small machine that takes in the Carbon Dioxide on Mars and converts it into breathable air. The moderate temperature would enable Moxie to operate at peak efficiency. Geologic evidence suggests Argyres water reserve is located very close to a nearby crater which would be ideal for placing a subsurface habitat. Given the high levels of cosmic radiation on Mars, it will be important for habitats to be located below the surface. Mining the water ice from the subglacial lake in Argyre is problematic due to the chemical composition of the soil. As a result, this process will require mechanical handling of snow which significantly increases the power required to harvest water, and increases the likelihood of contamination.\",\n",
        "                \"Casius\": \"It would be difficult for the crew to land in Casius. This mountain is one of the highest elevations on Mars. High elevation makes it much more dangerous to land because Mars' atmosphere is too thin to slow the aircraft down before reaching the surface. If the colony is located here, it would present a serious challenge for landing crews and supply vehicles.Casius would not be ideal for using Moxie, a small machine that takes in the Carbon Dioxide on Mars and converts it into breathable air. The extreme temperature fluctuations at this location would mean that Moxie can only be safely used on some days but not others. Geologic evidence suggests Casius water reserve is located in a large open flat area. The crew would have to live completely above ground, and would not have a structure for protection. Given the high levels of cosmic radiation on Mars, it will be important for habitats to be located below the surface. The soil composition in Casius location is very soft, which could make it possible for the colony to construct an underground well, or holding tank for water. This holding tank would be very useful and allow the colony to stockpile usable water and efficiently access it on demand. Casius has very little sunshine. The crew will rely on solar panels to power their habitat, vehicles, and other equipment. Locating the colony here would place a severe strain on power resources.\",\n",
        "                \"Diacria\": \" When fluid geologists run their prediction models on Diacria, the models all suggest that Diacria’s water reserves will take a long time to replenish. Once depleted, the underground ice reserve could take a year or more to fully replenish. NASAs Opportunity rover discovered that Diacria’s soil has a very high concentration of chlorine chemicals. Chlorine is toxic and would need to be removed from water supplies. Dechlorination requires additional energy, drawing on already strained solar arrays. Nuclear energy may need to be explored if you choose this location. NASAs Spirit rover provided extensive surface imaging of Diacria. This imaging shows unusually soft soil that would make it easy to create an underground liquid water reservoir just below the debris layer. The water in Diacria could be easily drilled from inside one of the many lava tubes. Lava tubes are hollow spaces that provide safe habitats for humans protecting them from cosmic radiation and micrometeorites.\",\n",
        "                \"Eridania\": \"The primary ice deposits in Eridania consist of buried glacial ice, which will require more energy to harvest because it takes longer to melt glacial ice than to melt thinner ice reserves. The ground layer above Eridanias subglacial lake is almost entirely composed of stone, which could make it extremely difficult to extract ice water here. The drilling technology needed to cut through the stone can only be tested once the crew arrives on Mars. Instruments aboard the Mars Odyssey have revealed an even layer of glacial water ice located relatively close to the surface in this location. This means that water in Eridania would be easy to reach with standard drilling equipment. Scientists at the Johnson Space Center estimate that the first colony will require 350k gallons of water per day to sustain themselves on Mars. Eridania’s ice water reserves at this location would provide well over 500k gallons per day. Some scientists believe that at some times of the year,  when the temperature rises above -10°F, there could be flowing liquid water available in Eridania. NASA recently confirmed that the Mars Reconnaissance Orbiter has provided the strongest evidence yet that liquid water flows intermittently on present-day Mars. Liquid water requires less energy than ice water to use since it does not have to be heated first.\"\n",
        "            }\n",
        "        }\n",
        "    },\n",
        "    \"atmosphere\": {\n",
        "        \"role_mts\": \"Atmospheric Specialist\",\n",
        "        \"summaries\": {\n",
        "            \"Atmosphere\": {\n",
        "                \"Argyre\": \"Argyre’s long flat plane makes it an ideal landing spot for a crewed mission. Landing on Mars will be extremely difficult because of the thin atmosphere. Argyre would be ideal for using Moxie, a small machine that takes in the Carbon Dioxide on Mars and converts it into breathable air. The moderate temperature would enable Moxie to operate at peak efficiency.  Argyre has the most sunshine of the four candidate landing sites. The abundant sunshine at this location is ideal for providing the power the crew news for its habitat, rovers, and scientific instrumentation. NASA's Spirit rover provided extensive surface imaging of Argyre. This imaging shows an unusual layer of stone that would make it very difficult to create an underground liquid water reservoir. Geologic evidence suggests Argyre’s water reserve is located very close to a nearby crater which would be ideal for placing a subsurface habitat. Given the high levels of cosmic radiation on Mars, it will be important for habitats to be located below the surface.\",\n",
        "                \"Casius\": \"Casius has very little sunshine. The crew will rely on solar panels to power their habitat, vehicles, and other equipment. Locating the colony here would place a severe strain on power resources. Geologic evidence suggests Casius’ water reserve is located in a large open flat area. The crew would have to live completely above ground, and would not have a structure for protection. Given the high levels of cosmic radiation on Mars, it will be important for habitats to be located below the surface. Casius would not be ideal for using Moxie, a small machine that takes in the Carbon Dioxide on Mars and converts it into breathable air. The extreme temperature fluctuations at this location would mean that Moxie can only be safely used on some days but not others. The soil composition in Casius is very soft, which could make it possible for the colony to construct an underground well, or holding tank for water. This holding tank would be very useful and allow the colony to stockpile usable water and efficiently access it on demand. Data streamed from the Mars Odyssey shows only trace amounts of surface hydrogen in Casius, meaning there is likely to be only a limited supply of water ice in this location.\",\n",
        "                \"Diacria\": \" When fluid geologists run their prediction models on Diacria, the models all suggest that Diacria’s water reserves will take a long time to replenish. Once depleted, the underground ice reserve could take a year or more to fully replenish. NASA's Opportunity rover discovered that Diacria’s soil has a very high concentration of chlorine chemicals. Chlorine is toxic and would need to be removed from water supplies. Dechlorination requires additional energy, drawing on already strained solar arrays. Nuclear energy may need to be explored if you choose this location. The low elevation makes Diacria’s valley an excellent landing site. Mars's very thin atmosphere is thickest in these low elevation areas, and spacecraft can use it to slow themselves down as they descend. Locating a colony here would make it relatively easier for future crews and supply vehicles to land. Diacria would be an excellent location to use Moxie, a small machine that takes in the Carbon Dioxide on Mars and converts it into breathable air. The especially high concentration of clean atmospheric Carbon Dioxide at this location would provide ample material for Moxie to make breathable air.\",\n",
        "                \"Eridania\": \"Moxie is a small machine that takes Carbon Dioxide from Mars atmosphere and turns it into breathable air. Climate models suggest this location has extremely high levels of particulate matter in the air that may prevent Moxie from working properly. Even if it works properly, it may require frequent repairs as filters are clogged. It has not been tested in these conditions. The Mars Odyssey has recorded the highest amount of surface hydrogen in this location, meaning there is a significant concentration of water ice in the upper meter of the Martian surface. Eridania experiences the least amount of sunlight on the Red Planet. This limits the ability to harvest the water with a high efficiency pump, which is recharged using solar arrays. Scientists at the Johnson Space Center estimate that the first colony will require 350k gallons of water per day to sustain themselves on Mars. Eridania’s ice water reserves would provide well over 500k gallons per day. Instruments aboard the Mars Odyssey have revealed an even layer of water ice located relatively close to the surface in this location. This means that water would be easy to reach with high efficiency drills.\"\n",
        "            }\n",
        "        }\n",
        "    }\n",
        "}"
      ],
      "id": "28dd7fcdc0e88c9",
      "outputs": [],
      "execution_count": null
    },
    {
      "metadata": {
        "ExecuteTime": {
          "end_time": "2024-12-16T02:15:35.601749Z",
          "start_time": "2024-12-16T02:15:35.562001Z"
        },
        "id": "817e1a588fbcf0e0"
      },
      "cell_type": "code",
      "source": [
        "client = AsyncOpenAI(api_key=OPENAI_API_KEY)\n",
        "\n",
        "async def call_openai_model(messages, model=MODEL_NAME):\n",
        "    response = await client.chat.completions.create(\n",
        "        model=model,\n",
        "        messages=messages,\n",
        "    )\n",
        "    return response.choices[0].message.content\n",
        "\n",
        "def transform_history_for_agent(agent_key, conversation_history):\n",
        "    \"\"\"\n",
        "    Transform the conversation history from the perspective of the current agent:\n",
        "    - system messages remain \"system\"\n",
        "    - messages from this agent become \"assistant\"\n",
        "    - messages from other agents become \"user\"\n",
        "    \"\"\"\n",
        "    transformed = []\n",
        "    for msg in conversation_history:\n",
        "        if msg[\"role\"] == \"system\":\n",
        "            transformed.append({\"role\": \"system\", \"content\": msg[\"content\"]})\n",
        "        else:\n",
        "            if msg.get(\"name\") == agent_key:\n",
        "                transformed.append({\"role\": \"assistant\", \"content\": msg[\"content\"]})\n",
        "            else:\n",
        "                transformed.append({\"role\": \"user\", \"content\": msg[\"content\"]})\n",
        "    return transformed\n",
        "\n",
        "def get_agent_instructions(agent_key, agents):\n",
        "    \"\"\"\n",
        "    Given an agent key, produce the goals, decider_instructions, and conversation_instructions\n",
        "    by formatting the templates with the agent's role_mts.\n",
        "    \"\"\"\n",
        "    role_mts = agents[agent_key][\"role_mts\"]\n",
        "\n",
        "    if \"Scientist\" in role_mts:\n",
        "        goals = GOALS_TEMPLATE['Scientist'].format(role_mts=role_mts)\n",
        "    if \"Specialist\" in role_mts:\n",
        "        goals = GOALS_TEMPLATE['Specialist'].format(role_mts=role_mts)\n",
        "    #if \"Geology Scientist\" in role_mts:\n",
        "    #    goals = goals + GOALS_TEMPLATE['Geology Scientist'].format(role_mts=role_mts)\n",
        "    #if \"Water Specialist\" in role_mts:\n",
        "    #    goals = goals + GOALS_TEMPLATE['Water Specialist'].format(role_mts=role_mts)\n",
        "    #if \"Climate Scientist\" in role_mts:\n",
        "    #    goals = goals + GOALS_TEMPLATE['Climate Scientist'].format(role_mts=role_mts)\n",
        "    #if \"Life Scientist\" in role_mts:\n",
        "    #    goals = goals + GOALS_TEMPLATE['Life Scientist'].format(role_mts=role_mts)\n",
        "    #if \"Terrain Specialist\" in role_mts:\n",
        "    #    goals = goals + GOALS_TEMPLATE['Terrain Specialist'].format(role_mts=role_mts)\n",
        "    #if \"Atmospheric Specialist\" in role_mts:\n",
        "    #    goals = goals + GOALS_TEMPLATE['Atmospheric Specialist'].format(role_mts=role_mts)\n",
        "\n",
        "\n",
        "    decider_instructions = DECIDER_INSTRUCTIONS_TEMPLATE.format(role_mts=role_mts)\n",
        "    conversation_instructions = CONVERSATION_INSTRUCTIONS_TEMPLATE.format(role_mts=role_mts)\n",
        "    return goals, decider_instructions, conversation_instructions\n",
        "\n",
        "'''\n",
        "async def agent_decider(agent_key, agents, conversation_history):\n",
        "    \"\"\"\n",
        "    Decide if the agent should continue or finalize.\n",
        "    \"\"\"\n",
        "    goals, decider_instructions, _ = get_agent_instructions(agent_key, agents)\n",
        "    recent_history = conversation_history[-10:]\n",
        "    prompt = [\n",
        "        {\"role\": \"system\", \"content\": goals},\n",
        "        {\"role\": \"system\", \"content\": decider_instructions},\n",
        "        {\"role\": \"user\", \"content\": \"Should you contribute more or finalize? Respond 'CONTRIBUTE' or 'FINALIZE'.\"}\n",
        "    ]\n",
        "\n",
        "    transformed_history = transform_history_for_agent(agent_key, recent_history)\n",
        "    prompt.extend(transformed_history)\n",
        "\n",
        "    decision = await call_openai_model(prompt, model=MODEL_NAME)\n",
        "    return \"FINALIZE\" if \"FINALIZE\" in decision.upper() else \"CONTRIBUTE\"\n",
        "'''\n",
        "async def agent_conversation(agent_key, agents, conversation_history, finalize=False):\n",
        "    \"\"\"\n",
        "    Agent produces either more discussion or a final answer.\n",
        "    \"\"\"\n",
        "    goals, _, conversation_instructions = get_agent_instructions(agent_key, agents)\n",
        "    agent_data = agents[agent_key]\n",
        "    user_message = \"Please provide your final recommended landing site and a brief justification.\" if finalize \\\n",
        "        else \"Please continue the discussion considering the other scientists' points.\"\n",
        "\n",
        "    # Construct summaries message\n",
        "    combined_summaries = \"\"\n",
        "    for summary_type, summary_dict in agent_data[\"summaries\"].items():\n",
        "        combined_summaries += f\"{summary_type}:\\n{summary_dict}\\n\"\n",
        "\n",
        "    transformed_history = transform_history_for_agent(agent_key, conversation_history)\n",
        "\n",
        "    prompt = [\n",
        "        {\"role\": \"system\", \"content\": goals},\n",
        "        {\"role\": \"system\", \"content\": conversation_instructions},\n",
        "        {\"role\": \"system\", \"content\": f\"Here are location-specific summaries:\\n{combined_summaries}\"},\n",
        "        {\"role\": \"system\", \"content\": \"You are part of a team of scientists discussing the best landing site on Mars. Keep replies short. Talk only from your perspective.\"}\n",
        "    ]\n",
        "    prompt.extend(transformed_history)\n",
        "    prompt.append({\"role\": \"user\", \"content\": user_message})\n",
        "\n",
        "    return await call_openai_model(prompt, model=MODEL_NAME)\n",
        "\n",
        "import random\n",
        "\n",
        "async def run_conversation(agents, MAX_TURNS=10):\n",
        "    \"\"\"\n",
        "    Run a round-robin conversation among the given agents until all finalize or max turns reached.\n",
        "    \"\"\"\n",
        "    conversation_history = []\n",
        "    finalized = {agent_key: False for agent_key in agents.keys()}\n",
        "\n",
        "    # Initial system prompt\n",
        "    conversation_history.append({\n",
        "        \"role\": \"system\",\n",
        "        \"content\": \"You are a team of scientists discussing where to land on Mars. Make sure to not forget about scientific discovery. Start now.\"\n",
        "    })\n",
        "\n",
        "    agent_order = list(agents.keys())\n",
        "    random.shuffle(agent_order)  # Randomize the agent order\n",
        "\n",
        "    turn = 0\n",
        "\n",
        "    max_turns_per_agent = MAX_TURNS // len(agents)  # Split MAX_TURNS equally among agents\n",
        "\n",
        "    while turn < MAX_TURNS:\n",
        "        if all(finalized.values()):\n",
        "            break\n",
        "\n",
        "        for agent_key in agent_order:\n",
        "            if finalized[agent_key]:\n",
        "                continue\n",
        "\n",
        "            # Check if the agent should finalize based on max_turns_per_agent\n",
        "            finalize = turn >= max_turns_per_agent\n",
        "\n",
        "            # Each agent either continues or finalizes\n",
        "            response = await agent_conversation(agent_key, agents, conversation_history, finalize=finalize)\n",
        "            conversation_history.append({\"role\": \"assistant\", \"name\": agent_key, \"content\": response})\n",
        "\n",
        "            # Mark the agent as finalized if they have contributed enough turns\n",
        "            if finalize:\n",
        "                finalized[agent_key] = True\n",
        "\n",
        "        turn += 1\n",
        "\n",
        "    return conversation_history\n",
        "\n",
        "\n",
        "async def extract_final_choice(conversation):\n",
        "    \"\"\"\n",
        "    Extract final chosen landing location or 'ERROR'.\n",
        "    \"\"\"\n",
        "    conversation_content = \"\"\n",
        "    last_messages = conversation[-10:]\n",
        "    for msg in conversation:\n",
        "        conversation_content += f\"{msg.get('name', msg['role']).upper()}: {msg['content']}\\n\"\n",
        "\n",
        "    extractor_prompt = [\n",
        "        {\"role\": \"system\", \"content\": \"You are the EXTRACTOR. Determine final chosen landing site from the conversation.\"},\n",
        "        {\"role\": \"system\", \"content\": \"Output only one word: 'Argyre', 'Casius', 'Diacria', 'Eridania', or 'ERROR'.\"},\n",
        "        {\"role\": \"user\", \"content\": f\"CONVERSATION:\\n{conversation_content}\"}\n",
        "    ]\n",
        "\n",
        "    response = await call_openai_model(extractor_prompt, model=MODEL_NAME)\n",
        "    final_choice = response.strip()\n",
        "    if final_choice not in [\"Argyre\", \"Casius\", \"Diacria\", \"Eridania\"]:\n",
        "        final_choice = \"ERROR\"\n",
        "    return final_choice\n",
        "\n",
        "async def run_single_simulation(i, agents):\n",
        "    conv = await run_conversation(agents, MAX_TURNS=15)\n",
        "    choice = await extract_final_choice(conv)\n",
        "    print(f\"simulation {i}, choice: {choice}\")\n",
        "    return choice\n",
        "\n",
        "\n"
      ],
      "id": "817e1a588fbcf0e0",
      "outputs": [],
      "execution_count": null
    },
    {
      "metadata": {
        "ExecuteTime": {
          "end_time": "2024-12-16T01:18:27.882134Z",
          "start_time": "2024-12-16T01:08:52.705987Z"
        },
        "id": "edfb2f66eeaa8ae9",
        "outputId": "0e881fdc-16a7-44df-e5cb-cb6a1dc1beb4",
        "colab": {
          "base_uri": "https://localhost:8080/",
          "height": 54
        }
      },
      "cell_type": "code",
      "source": [
        "MODEL_NAME = \"o3-mini\"\n",
        "await run_single_simulation(1, agents=AGENTS)"
      ],
      "id": "edfb2f66eeaa8ae9",
      "outputs": [
        {
          "output_type": "stream",
          "name": "stdout",
          "text": [
            "simulation 1, choice: Diacria\n"
          ]
        },
        {
          "output_type": "execute_result",
          "data": {
            "text/plain": [
              "'Diacria'"
            ],
            "application/vnd.google.colaboratory.intrinsic+json": {
              "type": "string"
            }
          },
          "metadata": {},
          "execution_count": 18
        }
      ],
      "execution_count": null
    },
    {
      "metadata": {
        "ExecuteTime": {
          "end_time": "2024-12-16T01:18:31.972650Z",
          "start_time": "2024-12-16T01:18:31.969372Z"
        },
        "id": "311cae6358653987"
      },
      "cell_type": "code",
      "source": [
        "agents_science = {key: value for key, value in AGENTS.items() if key in [\"climate\", \"life\", \"geology\"]}\n",
        "agents_specialists = {key: value for key, value in AGENTS.items() if key in [\"water\", \"terrain\", \"atmosphere\"]}"
      ],
      "id": "311cae6358653987",
      "outputs": [],
      "execution_count": null
    },
    {
      "metadata": {
        "ExecuteTime": {
          "end_time": "2024-12-16T02:15:51.372210Z",
          "start_time": "2024-12-16T02:15:51.369440Z"
        },
        "id": "da89ba936fb58d02"
      },
      "cell_type": "code",
      "source": [
        "async def run_n_simulations(num_simulations = 10, agents = AGENTS):\n",
        "    # Run simulations in parallel\n",
        "    results = await asyncio.gather(*(run_single_simulation(i, agents) for i in range(num_simulations)))\n",
        "    print(\"All simulations complete:\")\n",
        "    print(results)"
      ],
      "id": "da89ba936fb58d02",
      "outputs": [],
      "execution_count": null
    },
    {
      "metadata": {
        "ExecuteTime": {
          "end_time": "2024-12-16T03:32:56.625563Z",
          "start_time": "2024-12-16T03:12:33.435066Z"
        },
        "id": "6ac817f6ac45e74c",
        "outputId": "66551179-9f8e-4f5a-96ce-33fd431122cd",
        "colab": {
          "base_uri": "https://localhost:8080/"
        }
      },
      "cell_type": "code",
      "source": [
        "MODEL_NAME = \"o3-mini\"\n",
        "mts_results = await run_n_simulations(num_simulations = 10, agents = AGENTS)"
      ],
      "id": "6ac817f6ac45e74c",
      "outputs": [
        {
          "output_type": "stream",
          "name": "stdout",
          "text": [
            "simulation 5, choice: Argyre\n",
            "simulation 6, choice: Argyre\n",
            "simulation 0, choice: Argyre\n",
            "simulation 4, choice: Argyre\n",
            "simulation 3, choice: Argyre\n",
            "simulation 9, choice: Argyre\n",
            "simulation 1, choice: Argyre\n",
            "simulation 7, choice: Argyre\n",
            "simulation 8, choice: ERROR\n",
            "simulation 2, choice: Argyre\n",
            "All simulations complete:\n",
            "['Argyre', 'Argyre', 'Argyre', 'Argyre', 'Argyre', 'Argyre', 'Argyre', 'Argyre', 'ERROR', 'Argyre']\n"
          ]
        }
      ],
      "execution_count": null
    },
    {
      "metadata": {
        "ExecuteTime": {
          "end_time": "2024-12-16T03:12:12.852712Z",
          "start_time": "2024-12-16T03:12:12.849317Z"
        },
        "id": "cd38298f4a17156b",
        "outputId": "49b5fc36-fbd2-498c-beef-7ae4b8f725ba"
      },
      "cell_type": "code",
      "source": [
        "mts_results"
      ],
      "id": "cd38298f4a17156b",
      "outputs": [
        {
          "name": "stdout",
          "output_type": "stream",
          "text": [
            "None\n"
          ]
        }
      ],
      "execution_count": null
    },
    {
      "metadata": {
        "id": "45234445ae1682f8"
      },
      "cell_type": "code",
      "outputs": [],
      "execution_count": null,
      "source": [
        "['Argyre', 'Argyre', 'Argyre', 'Argyre', 'Argyre', 'Casius', 'Casius', 'Casius', 'Casius', 'Casius', 'Casius']"
      ],
      "id": "45234445ae1682f8"
    },
    {
      "metadata": {
        "ExecuteTime": {
          "end_time": "2024-12-16T03:54:57.237728Z",
          "start_time": "2024-12-16T03:54:57.157052Z"
        },
        "id": "5573eb3f7418ca3b",
        "outputId": "639c043e-186c-4b3d-cb4e-d10b22837c4a",
        "colab": {
          "base_uri": "https://localhost:8080/",
          "height": 472
        }
      },
      "cell_type": "code",
      "source": [
        "# Create a bar chart of final choices\n",
        "sns.countplot(x=['Argyre', 'Argyre', 'Argyre', 'Argyre', 'Argyre', 'Argyre', 'Argyre', 'Argyre', 'ERROR', 'Argyre']\n",
        "\n",
        ")\n",
        "plt.xlabel(\"Landing Locations\")\n",
        "plt.ylabel(\"Count\")\n",
        "plt.title(\"Distribution of Chosen Landing Locations Over 10 Simulations\")\n",
        "plt.show()"
      ],
      "id": "5573eb3f7418ca3b",
      "outputs": [
        {
          "output_type": "display_data",
          "data": {
            "text/plain": [
              "<Figure size 640x480 with 1 Axes>"
            ],
            "image/png": "[encoded data removed]"
          },
          "metadata": {}
        }
      ],
      "execution_count": null
    }
  ],
  "metadata": {
    "kernelspec": {
      "display_name": "Python 3",
      "language": "python",
      "name": "python3"
    },
    "language_info": {
      "codemirror_mode": {
        "name": "ipython",
        "version": 2
      },
      "file_extension": ".py",
      "mimetype": "text/x-python",
      "name": "python",
      "nbconvert_exporter": "python",
      "pygments_lexer": "ipython2",
      "version": "2.7.6"
    },
    "colab": {
      "provenance": []
    }
  },
  "nbformat": 4,
  "nbformat_minor": 5
}